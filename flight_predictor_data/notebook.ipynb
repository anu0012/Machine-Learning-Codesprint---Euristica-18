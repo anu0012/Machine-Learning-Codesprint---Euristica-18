{
  "cells": [
    {
      "metadata": {
        "_cell_guid": "b1076dfc-b9ad-4769-8c92-a6c4dae69d19",
        "_uuid": "8f2839f25d086af736a60e9eeb907d3b93b6e0e5",
        "collapsed": true,
        "trusted": false
      },
      "cell_type": "code",
      "source": "import numpy as np\nimport os\nimport pandas as pd\nimport sys\nimport matplotlib.pyplot as plt\n%matplotlib inline\nfrom sklearn.model_selection import train_test_split\nfrom sklearn.naive_bayes import MultinomialNB\nfrom sklearn.svm import LinearSVC\nfrom sklearn.ensemble import RandomForestClassifier, GradientBoostingClassifier,VotingClassifier\nfrom sklearn.linear_model import SGDClassifier, LogisticRegression\nfrom sklearn.linear_model import Ridge, RidgeCV, ElasticNet, LassoCV, LassoLarsCV\nfrom sklearn.preprocessing import StandardScaler\nfrom sklearn.tree import DecisionTreeClassifier\nfrom sklearn.metrics import accuracy_score,make_scorer\nimport seaborn as sns\nsns.set(color_codes=True)\nfrom scipy import stats\nfrom scipy.stats import norm, skew #for some statistics\nimport xgboost as xgb\nimport lightgbm as lgb\nfrom catboost import CatBoostClassifier\nnp.random.seed(25)",
      "execution_count": null,
      "outputs": []
    },
    {
      "metadata": {
        "_cell_guid": "79c7e3d0-c299-4dcb-8224-4455121ee9b0",
        "_uuid": "d629ff2d2480ee46fbb7e2d37f6b5fab8052498a",
        "collapsed": true,
        "trusted": false
      },
      "cell_type": "code",
      "source": "flight_train = pd.read_csv('../input/flight_data_train.csv')\nweather_train = pd.read_csv('../input/weather_data_train.csv')\nweather_test = pd.read_csv('../input/weather_data_test.csv')",
      "execution_count": null,
      "outputs": []
    },
    {
      "metadata": {
        "_uuid": "c4a1d4ee189584cd33691e215300d60d5c622e86",
        "_cell_guid": "080c3058-4829-4cd6-a294-9724dec4e359",
        "trusted": false,
        "collapsed": true
      },
      "cell_type": "code",
      "source": "flight_train.head()",
      "execution_count": null,
      "outputs": []
    },
    {
      "metadata": {
        "_uuid": "e50b448fdafea769dfbee485e98151cdd561d618",
        "_cell_guid": "567f29a8-db38-4079-8722-323ee1e0cd74",
        "trusted": false,
        "collapsed": true
      },
      "cell_type": "code",
      "source": "weather_train.head()",
      "execution_count": null,
      "outputs": []
    },
    {
      "metadata": {
        "_uuid": "76904ff2f2dd58e148b080217f3448e537b1c0d8",
        "_cell_guid": "18e0b5ca-9a10-4ada-a7c9-ea3b231f7fca"
      },
      "cell_type": "markdown",
      "source": "## Feature Engineering"
    },
    {
      "metadata": {
        "_uuid": "3fd53303042fffd90dedc734931dc4b5657e3ba7",
        "_cell_guid": "93f63d01-3d25-4d46-a506-419d603434da"
      },
      "cell_type": "markdown",
      "source": "### For Flight data"
    },
    {
      "metadata": {
        "_uuid": "639cb4289fb6205a0b15c203f2c6903bc660d7c4",
        "_cell_guid": "3a061094-1173-4858-9985-4b1ca38e3584"
      },
      "cell_type": "markdown",
      "source": "Let's create target column using total number of flights taken on a day."
    },
    {
      "metadata": {
        "_cell_guid": "d098d942-a1fb-4ab4-a839-1b78a8fd8d36",
        "_uuid": "2176661dd123edc99db4ffea36e8654823fd92bc",
        "collapsed": true,
        "trusted": false
      },
      "cell_type": "code",
      "source": "# select all columns with totalFlights\ncolumns = flight_train.columns[flight_train.columns.str.endswith('totalFlights')]\n\n# add a new columns TOTAL_FLIGHTS_FOR_ALL_SPOTS for all spots\nflight_train['TOTAL_FLIGHTS_FOR_ALL_SPOTS'] = flight_train[columns].sum(axis=1)\n\n# if TOTAL_FLIGHTS_FOR_ALL_SPOTS >= 15 it is a good day(1) otherwise bad day (0)\nflight_train['Good_Bad'] = np.where(flight_train['TOTAL_FLIGHTS_FOR_ALL_SPOTS'] >=15, 1, 0)",
      "execution_count": null,
      "outputs": []
    },
    {
      "metadata": {
        "_uuid": "b0ed4ba5617b803151aecde75d537ab5e4d390c7",
        "_cell_guid": "fddc23d7-41e8-4ad5-9b9e-62f8a8a1f879"
      },
      "cell_type": "markdown",
      "source": "Let's create some more features."
    },
    {
      "metadata": {
        "_cell_guid": "dc734608-672d-427b-8d98-fa4b0ef55037",
        "_uuid": "e0018faa2a32da728f9fc99b8d17a8ab1e553d56",
        "collapsed": true,
        "trusted": false
      },
      "cell_type": "code",
      "source": "columns = flight_train.columns[flight_train.columns.str.endswith('totalDistance')]\n\nflight_train['TOTAL_DISTANCE_FOR_ALL_SPOTS'] = flight_train[columns].sum(axis=1)",
      "execution_count": null,
      "outputs": []
    },
    {
      "metadata": {
        "_cell_guid": "c7058dbf-1ffe-45f9-818f-02b8013c0a2e",
        "_uuid": "ad094d9214dc83ad2e96968ac9cde5bb331a5136",
        "collapsed": true,
        "trusted": false
      },
      "cell_type": "code",
      "source": "columns = flight_train.columns[flight_train.columns.str.endswith('maxDistance')]\n\nflight_train['TOTAL_MAX_DISTANCE_FOR_ALL_SPOTS'] = flight_train[columns].sum(axis=1)",
      "execution_count": null,
      "outputs": []
    },
    {
      "metadata": {
        "_cell_guid": "881559ed-c858-42aa-8299-c3eab43c719e",
        "_uuid": "286fdabc22f5bf810f917b617f2ad8f7aeafe6ae",
        "collapsed": true,
        "trusted": false
      },
      "cell_type": "code",
      "source": "flight_train['AVERAGE_DISTANCE'] = flight_train['TOTAL_DISTANCE_FOR_ALL_SPOTS']/288\nflight_train['AVERAGE_FLIGHTS'] = flight_train['TOTAL_FLIGHTS_FOR_ALL_SPOTS']/288\nflight_train['AVERAGE_MAX_DISTANCE'] = flight_train['TOTAL_MAX_DISTANCE_FOR_ALL_SPOTS']/288",
      "execution_count": null,
      "outputs": []
    },
    {
      "metadata": {
        "_uuid": "e54098a42aad9077bc33e6d9396fe9500df3c1c3",
        "_cell_guid": "04e2240d-2fba-44e6-b1e1-0908eede7eb5"
      },
      "cell_type": "markdown",
      "source": "### For weather data"
    },
    {
      "metadata": {
        "_cell_guid": "ac18acd8-6989-4dc5-a623-44aa115f1d38",
        "_uuid": "8b7f72a94979b5585a8fbcf9986098d254e65f9c",
        "collapsed": true,
        "trusted": false
      },
      "cell_type": "code",
      "source": "### Train\n\ncolumns = weather_train.columns[weather_train.columns.str.contains('Pressure')]\nweather_train['AVERAGE_PRESSURE'] = weather_train[columns].sum(axis=1) / 45\n\ncolumns = weather_train.columns[weather_train.columns.str.contains('Temperature')]\nweather_train['AVERAGE_TEMPERATURE'] = weather_train[columns].sum(axis=1) / 45\n\ncolumns = weather_train.columns[weather_train.columns.str.contains('Wind Speed')]\nweather_train['AVERAGE_WIND_SPEED'] = weather_train[columns].sum(axis=1) / 45\n\ncolumns = weather_train.columns[weather_train.columns.str.contains('Wind Direction')]\nweather_train['AVERAGE_WIND_DIRECTION'] = weather_train[columns].sum(axis=1) / 45\n\ncolumns = weather_train.columns[weather_train.columns.str.contains('Dew Point')]\nweather_train['AVERAGE_DEW_POINT'] = weather_train[columns].sum(axis=1) / 45",
      "execution_count": null,
      "outputs": []
    },
    {
      "metadata": {
        "_cell_guid": "20f7ed4b-8d70-4647-b24c-af44ea9f0036",
        "_uuid": "b29cecff0536256f1d55c150890d9ea4f7e3cb66",
        "collapsed": true,
        "trusted": false
      },
      "cell_type": "code",
      "source": "### Train\n\ncolumns = weather_test.columns[weather_test.columns.str.contains('Pressure')]\nweather_test['AVERAGE_PRESSURE'] = weather_test[columns].sum(axis=1) / 45\n\ncolumns = weather_test.columns[weather_test.columns.str.contains('Temperature')]\nweather_test['AVERAGE_TEMPERATURE'] = weather_test[columns].sum(axis=1) / 45\n\ncolumns = weather_test.columns[weather_test.columns.str.contains('Wind Speed')]\nweather_test['AVERAGE_WIND_SPEED'] = weather_test[columns].sum(axis=1) / 45\n\ncolumns = weather_test.columns[weather_test.columns.str.contains('Wind Direction')]\nweather_test['AVERAGE_WIND_DIRECTION'] = weather_test[columns].sum(axis=1) / 45\n\ncolumns = weather_test.columns[weather_test.columns.str.contains('Dew Point')]\nweather_test['AVERAGE_DEW_POINT'] = weather_test[columns].sum(axis=1) / 45",
      "execution_count": null,
      "outputs": []
    },
    {
      "metadata": {
        "_uuid": "0840b523e8aec3b8676acc9269f48021e7a788e8",
        "_cell_guid": "b2c92247-0343-44fe-878d-7665e6721341"
      },
      "cell_type": "markdown",
      "source": "## Merge flight data and weather data"
    },
    {
      "metadata": {
        "_cell_guid": "cb831d07-6b03-4067-8323-75974f6cc1b8",
        "_uuid": "52d7c197f2f7b8a2cadac57fab18dee57fef8d84",
        "collapsed": true,
        "trusted": false
      },
      "cell_type": "code",
      "source": "weather_train = pd.merge(weather_train, flight_train[['Day_Id','Good_Bad']], on='Day_Id')",
      "execution_count": null,
      "outputs": []
    },
    {
      "metadata": {
        "_uuid": "124d29a2a705d06bf1c7b718ee8468aeb92fdfaf",
        "_cell_guid": "f390ba12-90fe-4023-baf4-416b77e7a951",
        "trusted": false,
        "collapsed": true
      },
      "cell_type": "code",
      "source": "weather_train.head()",
      "execution_count": null,
      "outputs": []
    },
    {
      "metadata": {
        "_cell_guid": "78e813c9-dd56-4d7f-9235-66f4672887a8",
        "_uuid": "04579579df5bf171c460dc7d55a172906b6d7d20",
        "collapsed": true,
        "trusted": false
      },
      "cell_type": "code",
      "source": "# select features for model training\nfeature_names = [x for x in weather_train.columns if x not in ['Day_Id','Good_Bad']]\ntarget = weather_train['Good_Bad']",
      "execution_count": null,
      "outputs": []
    },
    {
      "metadata": {
        "_uuid": "168252c2d051d8f8948eafc7f0646879ee4ee846",
        "scrolled": true,
        "_cell_guid": "ac803d62-9262-4165-a6b3-5c4e3c584bfb",
        "trusted": false,
        "collapsed": true
      },
      "cell_type": "code",
      "source": "# from sklearn.decomposition import PCA\n# from sklearn.preprocessing import scale\n\n# X=weather_train[feature_names].values\n# X = scale(X)\n\n# Y=weather_test[feature_names].values\n# Y = scale(Y)\n\n# pca = PCA(n_components=200)\n# pca.fit(X)\n\n# #The amount of variance that each PC explains\n# var= pca.explained_variance_ratio_\n\n# print(var)\n\n# #Cumulative Variance explains\n# var1=np.cumsum(np.round(pca.explained_variance_ratio_, decimals=4)*100)\n\n# plt.plot(var1)",
      "execution_count": null,
      "outputs": []
    },
    {
      "metadata": {
        "_uuid": "a434fb9ecb9d4e9b9486b33fb9fd815a4c7e6134",
        "_cell_guid": "d5c89fa6-df0d-441c-ad0e-e2f108d43982",
        "trusted": false,
        "collapsed": true
      },
      "cell_type": "code",
      "source": "# pca = PCA(n_components=200)\n# pca.fit(X)\n# X_train=pca.fit_transform(X)\n# X_test = pca.transform(Y)\n\n# model= CatBoostClassifier(learning_rate=0.1,verbose=False, iterations=500,depth=8)\n\n# ## model training and prediction\n# model.fit(X_train, target)\n# pred = model.predict(X_test)",
      "execution_count": null,
      "outputs": []
    },
    {
      "metadata": {
        "_cell_guid": "09a4236d-b0b2-4f37-8b22-bb9042827aee",
        "_uuid": "eb449f1f3a4e7fe85f0b73fa1d3db815c2110a78",
        "collapsed": true,
        "trusted": false
      },
      "cell_type": "code",
      "source": "",
      "execution_count": null,
      "outputs": []
    },
    {
      "metadata": {
        "_cell_guid": "d5c567d9-5330-4722-b75c-0da568170c05",
        "_uuid": "0e7009f53c39a06944fc2c80b45740276cc4b7b5",
        "collapsed": true,
        "trusted": false
      },
      "cell_type": "code",
      "source": "model= LogisticRegression()\n\n## model training and prediction\nmodel.fit(weather_train[feature_names], target)\npred = model.predict(weather_test[feature_names])",
      "execution_count": null,
      "outputs": []
    },
    {
      "metadata": {
        "_cell_guid": "e716fbaf-f7ec-4bcc-8788-8d16b654e65d",
        "_uuid": "08f12cba00fcb7779b14cbaec422dda66b5d1a06",
        "collapsed": true,
        "trusted": false
      },
      "cell_type": "code",
      "source": "## make submission\nsub = pd.DataFrame()\nsub['Day_Id'] = weather_test['Day_Id']\nsub['Good_Bad'] = pred.astype(int)\nsub.to_csv('result.csv', index=False)",
      "execution_count": null,
      "outputs": []
    },
    {
      "metadata": {
        "_uuid": "9be4e909ab2f92a05c952db79e678245f78368c3",
        "_cell_guid": "74817060-e8bc-493c-99dc-c4f4676a34c1",
        "trusted": false,
        "collapsed": true
      },
      "cell_type": "code",
      "source": "sub.head()",
      "execution_count": null,
      "outputs": []
    },
    {
      "metadata": {
        "_cell_guid": "7ef59dab-cb1f-4c87-afad-f9237eba93de",
        "_uuid": "9e36c01b6dfb469bd1b8486788a7bd62ffc02c9d",
        "collapsed": true,
        "trusted": false
      },
      "cell_type": "code",
      "source": "",
      "execution_count": null,
      "outputs": []
    }
  ],
  "metadata": {
    "language_info": {
      "name": "python",
      "version": "3.6.4",
      "mimetype": "text/x-python",
      "codemirror_mode": {
        "name": "ipython",
        "version": 3
      },
      "pygments_lexer": "ipython3",
      "nbconvert_exporter": "python",
      "file_extension": ".py"
    },
    "kernelspec": {
      "display_name": "Python 3",
      "language": "python",
      "name": "python3"
    }
  },
  "nbformat": 4,
  "nbformat_minor": 1
}