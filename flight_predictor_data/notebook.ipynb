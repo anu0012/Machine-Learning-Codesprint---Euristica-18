{
  "cells": [
    {
      "metadata": {
        "_cell_guid": "b1076dfc-b9ad-4769-8c92-a6c4dae69d19",
        "collapsed": true,
        "_uuid": "8f2839f25d086af736a60e9eeb907d3b93b6e0e5",
        "trusted": true
      },
      "cell_type": "code",
      "source": "import numpy as np\nimport os\nimport pandas as pd\nimport sys\nimport matplotlib.pyplot as plt\n%matplotlib inline\nfrom sklearn.model_selection import train_test_split\nfrom sklearn.naive_bayes import MultinomialNB, BernoulliNB, GaussianNB\nfrom sklearn.svm import LinearSVC,SVC\nfrom sklearn.ensemble import RandomForestClassifier, GradientBoostingClassifier, VotingClassifier, ExtraTreesClassifier, AdaBoostClassifier, BaggingClassifier\nfrom sklearn.linear_model import SGDClassifier, LogisticRegression\nfrom sklearn.linear_model import Ridge, RidgeCV, ElasticNet, LassoCV, LassoLarsCV\nfrom sklearn.preprocessing import StandardScaler\nfrom sklearn.tree import DecisionTreeClassifier\nfrom sklearn.metrics import confusion_matrix, f1_score, accuracy_score, roc_auc_score, recall_score, precision_score,make_scorer\nimport seaborn as sns\nsns.set(color_codes=True)\nfrom scipy import stats\nfrom scipy.stats import norm, skew #for some statistics\nimport xgboost as xgb\nimport lightgbm as lgb\nfrom catboost import CatBoostClassifier\nnp.random.seed(25)",
      "execution_count": 3,
      "outputs": []
    },
    {
      "metadata": {
        "_cell_guid": "79c7e3d0-c299-4dcb-8224-4455121ee9b0",
        "_uuid": "d629ff2d2480ee46fbb7e2d37f6b5fab8052498a",
        "trusted": true
      },
      "cell_type": "code",
      "source": "flight_train = pd.read_csv('../input/flight_data_train.csv')\nweather_train = pd.read_csv('../input/weather_data_train.csv')\nweather_test = pd.read_csv('../input/weather_data_test.csv')",
      "execution_count": 21,
      "outputs": []
    },
    {
      "metadata": {
        "_cell_guid": "080c3058-4829-4cd6-a294-9724dec4e359",
        "_uuid": "c4a1d4ee189584cd33691e215300d60d5c622e86",
        "trusted": true
      },
      "cell_type": "code",
      "source": "flight_train.head()",
      "execution_count": 22,
      "outputs": [
        {
          "output_type": "execute_result",
          "execution_count": 22,
          "data": {
            "text/plain": "   Day_Id  Spot1 maxDistance  Spot1 totalDistance  Spot1 totalFlights  \\\n0       1               0.00                 0.00                   0   \n1       2              23.84                41.82                   2   \n2       3               0.00                 0.00                   0   \n3       4               0.00                 0.00                   0   \n4       5              24.40                48.20                   2   \n\n   Spot2 maxDistance  Spot2 totalDistance  Spot2 totalFlights  \\\n0                0.0                  0.0                   0   \n1                0.0                  0.0                   0   \n2                0.0                  0.0                   0   \n3                0.0                  0.0                   0   \n4                0.0                  0.0                   0   \n\n   Spot3 maxDistance  Spot3 totalDistance  Spot3 totalFlights  \\\n0                0.0                  0.0                   0   \n1                0.0                  0.0                   0   \n2                0.0                  0.0                   0   \n3                0.0                  0.0                   0   \n4                0.0                  0.0                   0   \n\n           ...           Spot285 totalFlights  Spot286 maxDistance  \\\n0          ...                              0                  0.0   \n1          ...                              0                  0.0   \n2          ...                              0                  0.0   \n3          ...                              0                  0.0   \n4          ...                              0                  0.0   \n\n   Spot286 totalDistance  Spot286 totalFlights  Spot287 maxDistance  \\\n0                    0.0                     0                  0.0   \n1                    0.0                     0                  0.0   \n2                    0.0                     0                  0.0   \n3                    0.0                     0                  0.0   \n4                    0.0                     0                  0.0   \n\n   Spot287 totalDistance  Spot287 totalFlights  Spot288 maxDistance  \\\n0                    0.0                     0                  0.0   \n1                    0.0                     0                  0.0   \n2                    0.0                     0                  0.0   \n3                    0.0                     0                  0.0   \n4                    0.0                     0                  0.0   \n\n   Spot288 totalDistance  Spot288 totalFlights  \n0                    0.0                     0  \n1                    0.0                     0  \n2                    0.0                     0  \n3                    0.0                     0  \n4                    0.0                     0  \n\n[5 rows x 865 columns]",
            "text/html": "<div>\n<style scoped>\n    .dataframe tbody tr th:only-of-type {\n        vertical-align: middle;\n    }\n\n    .dataframe tbody tr th {\n        vertical-align: top;\n    }\n\n    .dataframe thead th {\n        text-align: right;\n    }\n</style>\n<table border=\"1\" class=\"dataframe\">\n  <thead>\n    <tr style=\"text-align: right;\">\n      <th></th>\n      <th>Day_Id</th>\n      <th>Spot1 maxDistance</th>\n      <th>Spot1 totalDistance</th>\n      <th>Spot1 totalFlights</th>\n      <th>Spot2 maxDistance</th>\n      <th>Spot2 totalDistance</th>\n      <th>Spot2 totalFlights</th>\n      <th>Spot3 maxDistance</th>\n      <th>Spot3 totalDistance</th>\n      <th>Spot3 totalFlights</th>\n      <th>...</th>\n      <th>Spot285 totalFlights</th>\n      <th>Spot286 maxDistance</th>\n      <th>Spot286 totalDistance</th>\n      <th>Spot286 totalFlights</th>\n      <th>Spot287 maxDistance</th>\n      <th>Spot287 totalDistance</th>\n      <th>Spot287 totalFlights</th>\n      <th>Spot288 maxDistance</th>\n      <th>Spot288 totalDistance</th>\n      <th>Spot288 totalFlights</th>\n    </tr>\n  </thead>\n  <tbody>\n    <tr>\n      <th>0</th>\n      <td>1</td>\n      <td>0.00</td>\n      <td>0.00</td>\n      <td>0</td>\n      <td>0.0</td>\n      <td>0.0</td>\n      <td>0</td>\n      <td>0.0</td>\n      <td>0.0</td>\n      <td>0</td>\n      <td>...</td>\n      <td>0</td>\n      <td>0.0</td>\n      <td>0.0</td>\n      <td>0</td>\n      <td>0.0</td>\n      <td>0.0</td>\n      <td>0</td>\n      <td>0.0</td>\n      <td>0.0</td>\n      <td>0</td>\n    </tr>\n    <tr>\n      <th>1</th>\n      <td>2</td>\n      <td>23.84</td>\n      <td>41.82</td>\n      <td>2</td>\n      <td>0.0</td>\n      <td>0.0</td>\n      <td>0</td>\n      <td>0.0</td>\n      <td>0.0</td>\n      <td>0</td>\n      <td>...</td>\n      <td>0</td>\n      <td>0.0</td>\n      <td>0.0</td>\n      <td>0</td>\n      <td>0.0</td>\n      <td>0.0</td>\n      <td>0</td>\n      <td>0.0</td>\n      <td>0.0</td>\n      <td>0</td>\n    </tr>\n    <tr>\n      <th>2</th>\n      <td>3</td>\n      <td>0.00</td>\n      <td>0.00</td>\n      <td>0</td>\n      <td>0.0</td>\n      <td>0.0</td>\n      <td>0</td>\n      <td>0.0</td>\n      <td>0.0</td>\n      <td>0</td>\n      <td>...</td>\n      <td>0</td>\n      <td>0.0</td>\n      <td>0.0</td>\n      <td>0</td>\n      <td>0.0</td>\n      <td>0.0</td>\n      <td>0</td>\n      <td>0.0</td>\n      <td>0.0</td>\n      <td>0</td>\n    </tr>\n    <tr>\n      <th>3</th>\n      <td>4</td>\n      <td>0.00</td>\n      <td>0.00</td>\n      <td>0</td>\n      <td>0.0</td>\n      <td>0.0</td>\n      <td>0</td>\n      <td>0.0</td>\n      <td>0.0</td>\n      <td>0</td>\n      <td>...</td>\n      <td>0</td>\n      <td>0.0</td>\n      <td>0.0</td>\n      <td>0</td>\n      <td>0.0</td>\n      <td>0.0</td>\n      <td>0</td>\n      <td>0.0</td>\n      <td>0.0</td>\n      <td>0</td>\n    </tr>\n    <tr>\n      <th>4</th>\n      <td>5</td>\n      <td>24.40</td>\n      <td>48.20</td>\n      <td>2</td>\n      <td>0.0</td>\n      <td>0.0</td>\n      <td>0</td>\n      <td>0.0</td>\n      <td>0.0</td>\n      <td>0</td>\n      <td>...</td>\n      <td>0</td>\n      <td>0.0</td>\n      <td>0.0</td>\n      <td>0</td>\n      <td>0.0</td>\n      <td>0.0</td>\n      <td>0</td>\n      <td>0.0</td>\n      <td>0.0</td>\n      <td>0</td>\n    </tr>\n  </tbody>\n</table>\n<p>5 rows × 865 columns</p>\n</div>"
          },
          "metadata": {}
        }
      ]
    },
    {
      "metadata": {
        "_cell_guid": "567f29a8-db38-4079-8722-323ee1e0cd74",
        "_uuid": "e50b448fdafea769dfbee485e98151cdd561d618",
        "trusted": true
      },
      "cell_type": "code",
      "source": "weather_train.head()",
      "execution_count": 23,
      "outputs": [
        {
          "output_type": "execute_result",
          "execution_count": 23,
          "data": {
            "text/plain": "   Day_Id  Station1 Dew Point Height1  Station1 Dew Point Height2  \\\n0       1                    7.351064                    7.328571   \n1       2                    2.086769                    0.948308   \n2       3                    2.014286                    1.657143   \n3       4                    0.249462                   -0.153846   \n4       5                    2.827496                    2.179510   \n\n   Station1 Dew Point Height3  Station1 Dew Point Height4  \\\n0                    6.866540                    6.410266   \n1                   -0.190154                   -1.763636   \n2                    1.400000                    1.400000   \n3                   -1.998723                   -3.843600   \n4                    1.599225                    1.211628   \n\n   Station1 Dew Point Height5  Station1 Dew Point Height6  \\\n0                    5.918868                    5.309172   \n1                   -5.848000                   -8.795752   \n2                    0.407164                   -0.727164   \n3                   -4.712595                   -4.903435   \n4                    0.824031                    0.443396   \n\n   Station1 Dew Point Height7  Station1 Dew Point Height8  \\\n0                    4.687870                    4.066568   \n1                   -9.963894                  -11.132035   \n2                   -1.861493                   -2.995821   \n3                   -5.094275                   -5.502703   \n4                    0.066038                   -0.311321   \n\n   Station1 Dew Point Height9              ...               \\\n0                    2.283636              ...                \n1                  -12.300177              ...                \n2                   -4.086486              ...                \n3                   -6.427273              ...                \n4                   -0.688679              ...                \n\n   Station5 Wind Speed Height36  Station5 Wind Speed Height37  \\\n0                     52.213144                     52.923623   \n1                      3.924168                      3.739211   \n2                     15.656836                     15.388740   \n3                     39.408068                     38.748642   \n4                     50.925714                     50.354286   \n\n   Station5 Wind Speed Height38  Station5 Wind Speed Height39  \\\n0                     53.634103                     54.344583   \n1                      3.554254                      3.369297   \n2                     15.120643                     14.882979   \n3                     38.089216                     37.429791   \n4                     50.000000                     50.000000   \n\n   Station5 Wind Speed Height40  Station5 Wind Speed Height41  \\\n0                     55.055062                     55.765542   \n1                      3.184340                      2.999383   \n2                     14.670213                     14.457447   \n3                     36.770365                     36.110939   \n4                     50.000000                     49.557377   \n\n   Station5 Wind Speed Height42  Station5 Wind Speed Height43  \\\n0                     56.264822                     56.660079   \n1                      2.814427                      2.629470   \n2                     14.244681                     14.031915   \n3                     35.451513                     34.792087   \n4                     49.010929                     50.613169   \n\n   Station5 Wind Speed Height44  Station5 Wind Speed Height45  \n0                     57.093960                     57.765101  \n1                      2.444513                      2.259556  \n2                     13.819149                     13.606383  \n3                     34.132661                     33.473235  \n4                     52.259259                     53.762376  \n\n[5 rows x 1126 columns]",
            "text/html": "<div>\n<style scoped>\n    .dataframe tbody tr th:only-of-type {\n        vertical-align: middle;\n    }\n\n    .dataframe tbody tr th {\n        vertical-align: top;\n    }\n\n    .dataframe thead th {\n        text-align: right;\n    }\n</style>\n<table border=\"1\" class=\"dataframe\">\n  <thead>\n    <tr style=\"text-align: right;\">\n      <th></th>\n      <th>Day_Id</th>\n      <th>Station1 Dew Point Height1</th>\n      <th>Station1 Dew Point Height2</th>\n      <th>Station1 Dew Point Height3</th>\n      <th>Station1 Dew Point Height4</th>\n      <th>Station1 Dew Point Height5</th>\n      <th>Station1 Dew Point Height6</th>\n      <th>Station1 Dew Point Height7</th>\n      <th>Station1 Dew Point Height8</th>\n      <th>Station1 Dew Point Height9</th>\n      <th>...</th>\n      <th>Station5 Wind Speed Height36</th>\n      <th>Station5 Wind Speed Height37</th>\n      <th>Station5 Wind Speed Height38</th>\n      <th>Station5 Wind Speed Height39</th>\n      <th>Station5 Wind Speed Height40</th>\n      <th>Station5 Wind Speed Height41</th>\n      <th>Station5 Wind Speed Height42</th>\n      <th>Station5 Wind Speed Height43</th>\n      <th>Station5 Wind Speed Height44</th>\n      <th>Station5 Wind Speed Height45</th>\n    </tr>\n  </thead>\n  <tbody>\n    <tr>\n      <th>0</th>\n      <td>1</td>\n      <td>7.351064</td>\n      <td>7.328571</td>\n      <td>6.866540</td>\n      <td>6.410266</td>\n      <td>5.918868</td>\n      <td>5.309172</td>\n      <td>4.687870</td>\n      <td>4.066568</td>\n      <td>2.283636</td>\n      <td>...</td>\n      <td>52.213144</td>\n      <td>52.923623</td>\n      <td>53.634103</td>\n      <td>54.344583</td>\n      <td>55.055062</td>\n      <td>55.765542</td>\n      <td>56.264822</td>\n      <td>56.660079</td>\n      <td>57.093960</td>\n      <td>57.765101</td>\n    </tr>\n    <tr>\n      <th>1</th>\n      <td>2</td>\n      <td>2.086769</td>\n      <td>0.948308</td>\n      <td>-0.190154</td>\n      <td>-1.763636</td>\n      <td>-5.848000</td>\n      <td>-8.795752</td>\n      <td>-9.963894</td>\n      <td>-11.132035</td>\n      <td>-12.300177</td>\n      <td>...</td>\n      <td>3.924168</td>\n      <td>3.739211</td>\n      <td>3.554254</td>\n      <td>3.369297</td>\n      <td>3.184340</td>\n      <td>2.999383</td>\n      <td>2.814427</td>\n      <td>2.629470</td>\n      <td>2.444513</td>\n      <td>2.259556</td>\n    </tr>\n    <tr>\n      <th>2</th>\n      <td>3</td>\n      <td>2.014286</td>\n      <td>1.657143</td>\n      <td>1.400000</td>\n      <td>1.400000</td>\n      <td>0.407164</td>\n      <td>-0.727164</td>\n      <td>-1.861493</td>\n      <td>-2.995821</td>\n      <td>-4.086486</td>\n      <td>...</td>\n      <td>15.656836</td>\n      <td>15.388740</td>\n      <td>15.120643</td>\n      <td>14.882979</td>\n      <td>14.670213</td>\n      <td>14.457447</td>\n      <td>14.244681</td>\n      <td>14.031915</td>\n      <td>13.819149</td>\n      <td>13.606383</td>\n    </tr>\n    <tr>\n      <th>3</th>\n      <td>4</td>\n      <td>0.249462</td>\n      <td>-0.153846</td>\n      <td>-1.998723</td>\n      <td>-3.843600</td>\n      <td>-4.712595</td>\n      <td>-4.903435</td>\n      <td>-5.094275</td>\n      <td>-5.502703</td>\n      <td>-6.427273</td>\n      <td>...</td>\n      <td>39.408068</td>\n      <td>38.748642</td>\n      <td>38.089216</td>\n      <td>37.429791</td>\n      <td>36.770365</td>\n      <td>36.110939</td>\n      <td>35.451513</td>\n      <td>34.792087</td>\n      <td>34.132661</td>\n      <td>33.473235</td>\n    </tr>\n    <tr>\n      <th>4</th>\n      <td>5</td>\n      <td>2.827496</td>\n      <td>2.179510</td>\n      <td>1.599225</td>\n      <td>1.211628</td>\n      <td>0.824031</td>\n      <td>0.443396</td>\n      <td>0.066038</td>\n      <td>-0.311321</td>\n      <td>-0.688679</td>\n      <td>...</td>\n      <td>50.925714</td>\n      <td>50.354286</td>\n      <td>50.000000</td>\n      <td>50.000000</td>\n      <td>50.000000</td>\n      <td>49.557377</td>\n      <td>49.010929</td>\n      <td>50.613169</td>\n      <td>52.259259</td>\n      <td>53.762376</td>\n    </tr>\n  </tbody>\n</table>\n<p>5 rows × 1126 columns</p>\n</div>"
          },
          "metadata": {}
        }
      ]
    },
    {
      "metadata": {
        "_cell_guid": "18e0b5ca-9a10-4ada-a7c9-ea3b231f7fca",
        "_uuid": "76904ff2f2dd58e148b080217f3448e537b1c0d8"
      },
      "cell_type": "markdown",
      "source": "## Feature Engineering"
    },
    {
      "metadata": {
        "_cell_guid": "3a061094-1173-4858-9985-4b1ca38e3584",
        "_uuid": "639cb4289fb6205a0b15c203f2c6903bc660d7c4"
      },
      "cell_type": "markdown",
      "source": "Let's create target column using total number of flights taken on a day."
    },
    {
      "metadata": {
        "_cell_guid": "d098d942-a1fb-4ab4-a839-1b78a8fd8d36",
        "collapsed": true,
        "_uuid": "2176661dd123edc99db4ffea36e8654823fd92bc",
        "trusted": true
      },
      "cell_type": "code",
      "source": "# select all columns with totalFlights\ncolumns = flight_train.columns[flight_train.columns.str.endswith('totalFlights')]\n\n# add a new columns TOTAL_FLIGHTS_FOR_ALL_SPOTS for all spots\nflight_train['TOTAL_FLIGHTS_FOR_ALL_SPOTS'] = flight_train[columns].sum(axis=1)\n\n# if TOTAL_FLIGHTS_FOR_ALL_SPOTS >= 15 it is a good day(1) otherwise bad day (0)\nflight_train['Good_Bad'] = np.where(flight_train['TOTAL_FLIGHTS_FOR_ALL_SPOTS'] >=15, 1, 0)",
      "execution_count": 24,
      "outputs": []
    },
    {
      "metadata": {
        "_cell_guid": "b2c92247-0343-44fe-878d-7665e6721341",
        "_uuid": "0840b523e8aec3b8676acc9269f48021e7a788e8"
      },
      "cell_type": "markdown",
      "source": "## Merge flight data and weather data"
    },
    {
      "metadata": {
        "_cell_guid": "cb831d07-6b03-4067-8323-75974f6cc1b8",
        "collapsed": true,
        "_uuid": "52d7c197f2f7b8a2cadac57fab18dee57fef8d84",
        "trusted": true
      },
      "cell_type": "code",
      "source": "weather_train = pd.merge(weather_train, flight_train[['Day_Id','Good_Bad']], on='Day_Id')",
      "execution_count": 25,
      "outputs": []
    },
    {
      "metadata": {
        "_cell_guid": "f390ba12-90fe-4023-baf4-416b77e7a951",
        "_uuid": "124d29a2a705d06bf1c7b718ee8468aeb92fdfaf",
        "trusted": true
      },
      "cell_type": "code",
      "source": "weather_train.head()",
      "execution_count": 26,
      "outputs": [
        {
          "output_type": "execute_result",
          "execution_count": 26,
          "data": {
            "text/plain": "   Day_Id  Station1 Dew Point Height1  Station1 Dew Point Height2  \\\n0       1                    7.351064                    7.328571   \n1       2                    2.086769                    0.948308   \n2       3                    2.014286                    1.657143   \n3       4                    0.249462                   -0.153846   \n4       5                    2.827496                    2.179510   \n\n   Station1 Dew Point Height3  Station1 Dew Point Height4  \\\n0                    6.866540                    6.410266   \n1                   -0.190154                   -1.763636   \n2                    1.400000                    1.400000   \n3                   -1.998723                   -3.843600   \n4                    1.599225                    1.211628   \n\n   Station1 Dew Point Height5  Station1 Dew Point Height6  \\\n0                    5.918868                    5.309172   \n1                   -5.848000                   -8.795752   \n2                    0.407164                   -0.727164   \n3                   -4.712595                   -4.903435   \n4                    0.824031                    0.443396   \n\n   Station1 Dew Point Height7  Station1 Dew Point Height8  \\\n0                    4.687870                    4.066568   \n1                   -9.963894                  -11.132035   \n2                   -1.861493                   -2.995821   \n3                   -5.094275                   -5.502703   \n4                    0.066038                   -0.311321   \n\n   Station1 Dew Point Height9    ...     Station5 Wind Speed Height37  \\\n0                    2.283636    ...                        52.923623   \n1                  -12.300177    ...                         3.739211   \n2                   -4.086486    ...                        15.388740   \n3                   -6.427273    ...                        38.748642   \n4                   -0.688679    ...                        50.354286   \n\n   Station5 Wind Speed Height38  Station5 Wind Speed Height39  \\\n0                     53.634103                     54.344583   \n1                      3.554254                      3.369297   \n2                     15.120643                     14.882979   \n3                     38.089216                     37.429791   \n4                     50.000000                     50.000000   \n\n   Station5 Wind Speed Height40  Station5 Wind Speed Height41  \\\n0                     55.055062                     55.765542   \n1                      3.184340                      2.999383   \n2                     14.670213                     14.457447   \n3                     36.770365                     36.110939   \n4                     50.000000                     49.557377   \n\n   Station5 Wind Speed Height42  Station5 Wind Speed Height43  \\\n0                     56.264822                     56.660079   \n1                      2.814427                      2.629470   \n2                     14.244681                     14.031915   \n3                     35.451513                     34.792087   \n4                     49.010929                     50.613169   \n\n   Station5 Wind Speed Height44  Station5 Wind Speed Height45  Good_Bad  \n0                     57.093960                     57.765101         0  \n1                      2.444513                      2.259556         0  \n2                     13.819149                     13.606383         0  \n3                     34.132661                     33.473235         0  \n4                     52.259259                     53.762376         0  \n\n[5 rows x 1127 columns]",
            "text/html": "<div>\n<style scoped>\n    .dataframe tbody tr th:only-of-type {\n        vertical-align: middle;\n    }\n\n    .dataframe tbody tr th {\n        vertical-align: top;\n    }\n\n    .dataframe thead th {\n        text-align: right;\n    }\n</style>\n<table border=\"1\" class=\"dataframe\">\n  <thead>\n    <tr style=\"text-align: right;\">\n      <th></th>\n      <th>Day_Id</th>\n      <th>Station1 Dew Point Height1</th>\n      <th>Station1 Dew Point Height2</th>\n      <th>Station1 Dew Point Height3</th>\n      <th>Station1 Dew Point Height4</th>\n      <th>Station1 Dew Point Height5</th>\n      <th>Station1 Dew Point Height6</th>\n      <th>Station1 Dew Point Height7</th>\n      <th>Station1 Dew Point Height8</th>\n      <th>Station1 Dew Point Height9</th>\n      <th>...</th>\n      <th>Station5 Wind Speed Height37</th>\n      <th>Station5 Wind Speed Height38</th>\n      <th>Station5 Wind Speed Height39</th>\n      <th>Station5 Wind Speed Height40</th>\n      <th>Station5 Wind Speed Height41</th>\n      <th>Station5 Wind Speed Height42</th>\n      <th>Station5 Wind Speed Height43</th>\n      <th>Station5 Wind Speed Height44</th>\n      <th>Station5 Wind Speed Height45</th>\n      <th>Good_Bad</th>\n    </tr>\n  </thead>\n  <tbody>\n    <tr>\n      <th>0</th>\n      <td>1</td>\n      <td>7.351064</td>\n      <td>7.328571</td>\n      <td>6.866540</td>\n      <td>6.410266</td>\n      <td>5.918868</td>\n      <td>5.309172</td>\n      <td>4.687870</td>\n      <td>4.066568</td>\n      <td>2.283636</td>\n      <td>...</td>\n      <td>52.923623</td>\n      <td>53.634103</td>\n      <td>54.344583</td>\n      <td>55.055062</td>\n      <td>55.765542</td>\n      <td>56.264822</td>\n      <td>56.660079</td>\n      <td>57.093960</td>\n      <td>57.765101</td>\n      <td>0</td>\n    </tr>\n    <tr>\n      <th>1</th>\n      <td>2</td>\n      <td>2.086769</td>\n      <td>0.948308</td>\n      <td>-0.190154</td>\n      <td>-1.763636</td>\n      <td>-5.848000</td>\n      <td>-8.795752</td>\n      <td>-9.963894</td>\n      <td>-11.132035</td>\n      <td>-12.300177</td>\n      <td>...</td>\n      <td>3.739211</td>\n      <td>3.554254</td>\n      <td>3.369297</td>\n      <td>3.184340</td>\n      <td>2.999383</td>\n      <td>2.814427</td>\n      <td>2.629470</td>\n      <td>2.444513</td>\n      <td>2.259556</td>\n      <td>0</td>\n    </tr>\n    <tr>\n      <th>2</th>\n      <td>3</td>\n      <td>2.014286</td>\n      <td>1.657143</td>\n      <td>1.400000</td>\n      <td>1.400000</td>\n      <td>0.407164</td>\n      <td>-0.727164</td>\n      <td>-1.861493</td>\n      <td>-2.995821</td>\n      <td>-4.086486</td>\n      <td>...</td>\n      <td>15.388740</td>\n      <td>15.120643</td>\n      <td>14.882979</td>\n      <td>14.670213</td>\n      <td>14.457447</td>\n      <td>14.244681</td>\n      <td>14.031915</td>\n      <td>13.819149</td>\n      <td>13.606383</td>\n      <td>0</td>\n    </tr>\n    <tr>\n      <th>3</th>\n      <td>4</td>\n      <td>0.249462</td>\n      <td>-0.153846</td>\n      <td>-1.998723</td>\n      <td>-3.843600</td>\n      <td>-4.712595</td>\n      <td>-4.903435</td>\n      <td>-5.094275</td>\n      <td>-5.502703</td>\n      <td>-6.427273</td>\n      <td>...</td>\n      <td>38.748642</td>\n      <td>38.089216</td>\n      <td>37.429791</td>\n      <td>36.770365</td>\n      <td>36.110939</td>\n      <td>35.451513</td>\n      <td>34.792087</td>\n      <td>34.132661</td>\n      <td>33.473235</td>\n      <td>0</td>\n    </tr>\n    <tr>\n      <th>4</th>\n      <td>5</td>\n      <td>2.827496</td>\n      <td>2.179510</td>\n      <td>1.599225</td>\n      <td>1.211628</td>\n      <td>0.824031</td>\n      <td>0.443396</td>\n      <td>0.066038</td>\n      <td>-0.311321</td>\n      <td>-0.688679</td>\n      <td>...</td>\n      <td>50.354286</td>\n      <td>50.000000</td>\n      <td>50.000000</td>\n      <td>50.000000</td>\n      <td>49.557377</td>\n      <td>49.010929</td>\n      <td>50.613169</td>\n      <td>52.259259</td>\n      <td>53.762376</td>\n      <td>0</td>\n    </tr>\n  </tbody>\n</table>\n<p>5 rows × 1127 columns</p>\n</div>"
          },
          "metadata": {}
        }
      ]
    },
    {
      "metadata": {
        "_cell_guid": "93256165-b084-4f79-9777-33f6c39ea5a9",
        "_uuid": "b9223543e63cb7419c84d70554d79f63e2f16c45",
        "trusted": true
      },
      "cell_type": "code",
      "source": "#scatter plot \nvar = 'Station1 Wind Speed Height45'\ndata = pd.concat([weather_train['Good_Bad'], weather_train[var]], axis=1)\ndata.plot.scatter(x=var, y='Good_Bad');",
      "execution_count": 27,
      "outputs": [
        {
          "output_type": "display_data",
          "data": {
            "text/plain": "<matplotlib.figure.Figure at 0x7fcb40932e10>",
            "image/png": "[encoded data removed]"
          },
          "metadata": {}
        }
      ]
    },
    {
      "metadata": {
        "_cell_guid": "fa17f4a4-b375-4c87-bd6f-717f40292326",
        "_uuid": "5f79531254db4d7323259ed7812897736a199b67",
        "trusted": true
      },
      "cell_type": "code",
      "source": "weather_train.shape",
      "execution_count": 11,
      "outputs": [
        {
          "output_type": "execute_result",
          "execution_count": 11,
          "data": {
            "text/plain": "(2183, 1127)"
          },
          "metadata": {}
        }
      ]
    },
    {
      "metadata": {
        "_cell_guid": "af3e4d31-591c-4290-9b61-c2376429c123",
        "_uuid": "e5e3e87c4a208b388fe7cffb6bcf11d4a6dbaf67",
        "trusted": true
      },
      "cell_type": "code",
      "source": "#remove outliers\n# 1. Negative wind speeds\ncolumns = weather_train.columns[weather_train.columns.str.contains('Wind Speed')]\nfor i in columns:\n    weather_train = weather_train[weather_train[i] >= 0]\n    \n# 2. Pressure at height 45\ncolumns = weather_train.columns[weather_train.columns.str.contains('Pressure Height45')]\nfor i in columns:\n    weather_train = weather_train[(weather_train[i] >= 500) & (weather_train[i] <= 600)]\nweather_train.shape",
      "execution_count": 12,
      "outputs": [
        {
          "output_type": "execute_result",
          "execution_count": 12,
          "data": {
            "text/plain": "(2169, 1127)"
          },
          "metadata": {}
        }
      ]
    },
    {
      "metadata": {
        "_cell_guid": "7345d997-4294-474b-b9b1-d611617704e5",
        "_uuid": "fdd5399bcfcd29f0c3d7ef72d1633fa28216554d",
        "trusted": true
      },
      "cell_type": "code",
      "source": "sns.distplot(weather_train['Good_Bad'])",
      "execution_count": 13,
      "outputs": [
        {
          "output_type": "execute_result",
          "execution_count": 13,
          "data": {
            "text/plain": "<matplotlib.axes._subplots.AxesSubplot at 0x7fcb40a1d390>"
          },
          "metadata": {}
        },
        {
          "output_type": "display_data",
          "data": {
            "text/plain": "<matplotlib.figure.Figure at 0x7fcb40a86e10>",
            "image/png": "[encoded data removed]"
          },
          "metadata": {}
        }
      ]
    },
    {
      "metadata": {
        "_cell_guid": "78e813c9-dd56-4d7f-9235-66f4672887a8",
        "collapsed": true,
        "_uuid": "04579579df5bf171c460dc7d55a172906b6d7d20",
        "trusted": true
      },
      "cell_type": "code",
      "source": "# select features for model training\nfeature_names = [x for x in weather_train.columns if x not in ['Day_Id','Good_Bad']]\ntarget = weather_train['Good_Bad']",
      "execution_count": 14,
      "outputs": []
    },
    {
      "metadata": {
        "_cell_guid": "32702231-ed71-47f6-bcfd-e58a7ca6a067",
        "_uuid": "63c6e57d75ae6e4c608f298a71a103a2338b4b02"
      },
      "cell_type": "markdown",
      "source": "## Model Validation"
    },
    {
      "metadata": {
        "_cell_guid": "aaf566c5-3771-459a-a5bd-48cde7ed0660",
        "_uuid": "6f323937b9add43e824d953bae795b95bea3d0fd",
        "trusted": true
      },
      "cell_type": "code",
      "source": "# Splitting the dataset into the Training set and Test set\nfrom sklearn.cross_validation import train_test_split\nX_train, X_test, y_train, y_test = train_test_split(weather_train[feature_names], target, test_size = 0.25, random_state = 42)\n\nmodel = lgb.LGBMClassifier(lambda_l2=1.0,feature_fraction=0.6,num_boost_round=1200,num_leaves=9)\n## model training and prediction\nmodel.fit(X_train, y_train)\npred = model.predict(X_test)\n\n## model performance evaluation using different matrices\nprint(\"LightGBM :\\n\")\nprint(\"confusion_matrix: \" + str(confusion_matrix(pred, y_test.values)))\nprint(\"recall_score: \" + str(recall_score(pred, y_test.values)))\nprint(\"precision_score: \" + str(precision_score(pred, y_test.values)))\nprint(\"f1_score: \" + str(f1_score(pred, y_test.values)))\nprint(\"accuracy_score: \" + str(accuracy_score(pred, y_test.values)))\nprint(\"roc_auc_score: \" + str(roc_auc_score(pred, y_test.values)))",
      "execution_count": 15,
      "outputs": [
        {
          "output_type": "stream",
          "text": "/opt/conda/lib/python3.6/site-packages/sklearn/cross_validation.py:41: DeprecationWarning: This module was deprecated in version 0.18 in favor of the model_selection module into which all the refactored classes and functions are moved. Also note that the interface of the new CV iterators are different from that of this module. This module will be removed in 0.20.\n  \"This module will be removed in 0.20.\", DeprecationWarning)\n/opt/conda/lib/python3.6/site-packages/lightgbm/engine.py:99: UserWarning: Found `num_boost_round` in params. Will use it instead of argument\n  warnings.warn(\"Found `{}` in params. Will use it instead of argument\".format(alias))\n",
          "name": "stderr"
        },
        {
          "output_type": "stream",
          "text": "LightGBM :\n\nconfusion_matrix: [[264  57]\n [ 71 151]]\nrecall_score: 0.6801801801801802\nprecision_score: 0.7259615384615384\nf1_score: 0.7023255813953488\naccuracy_score: 0.7642725598526704\nroc_auc_score: 0.7513050433611181\n",
          "name": "stdout"
        },
        {
          "output_type": "stream",
          "text": "/opt/conda/lib/python3.6/site-packages/sklearn/preprocessing/label.py:151: DeprecationWarning: The truth value of an empty array is ambiguous. Returning False, but in future this will result in an error. Use `array.size > 0` to check that an array is not empty.\n  if diff:\n",
          "name": "stderr"
        }
      ]
    },
    {
      "metadata": {
        "_cell_guid": "d5c567d9-5330-4722-b75c-0da568170c05",
        "_uuid": "0e7009f53c39a06944fc2c80b45740276cc4b7b5",
        "trusted": true
      },
      "cell_type": "code",
      "source": "model = lgb.LGBMClassifier(lambda_l2=1.0,feature_fraction=0.6,num_boost_round=1200,num_leaves=9)\n\n## model training and prediction\nmodel.fit(weather_train[feature_names], target)\npred = model.predict(weather_test[feature_names])",
      "execution_count": 16,
      "outputs": [
        {
          "output_type": "stream",
          "text": "/opt/conda/lib/python3.6/site-packages/lightgbm/engine.py:99: UserWarning: Found `num_boost_round` in params. Will use it instead of argument\n  warnings.warn(\"Found `{}` in params. Will use it instead of argument\".format(alias))\n/opt/conda/lib/python3.6/site-packages/sklearn/preprocessing/label.py:151: DeprecationWarning: The truth value of an empty array is ambiguous. Returning False, but in future this will result in an error. Use `array.size > 0` to check that an array is not empty.\n  if diff:\n",
          "name": "stderr"
        }
      ]
    },
    {
      "metadata": {
        "_cell_guid": "e716fbaf-f7ec-4bcc-8788-8d16b654e65d",
        "collapsed": true,
        "_uuid": "08f12cba00fcb7779b14cbaec422dda66b5d1a06",
        "trusted": true
      },
      "cell_type": "code",
      "source": "## make submission\nsub = pd.DataFrame()\nsub['Day_Id'] = weather_test['Day_Id']\nsub['Good_Bad'] = pred.astype(int)\nsub.to_csv('result.csv', index=False)",
      "execution_count": 17,
      "outputs": []
    },
    {
      "metadata": {
        "_cell_guid": "74817060-e8bc-493c-99dc-c4f4676a34c1",
        "_uuid": "9be4e909ab2f92a05c952db79e678245f78368c3",
        "trusted": true
      },
      "cell_type": "code",
      "source": "sub.head()",
      "execution_count": 18,
      "outputs": [
        {
          "output_type": "execute_result",
          "execution_count": 18,
          "data": {
            "text/plain": "   Day_Id  Good_Bad\n0      52         0\n1      84         1\n2      87         0\n3      89         0\n4     109         1",
            "text/html": "<div>\n<style scoped>\n    .dataframe tbody tr th:only-of-type {\n        vertical-align: middle;\n    }\n\n    .dataframe tbody tr th {\n        vertical-align: top;\n    }\n\n    .dataframe thead th {\n        text-align: right;\n    }\n</style>\n<table border=\"1\" class=\"dataframe\">\n  <thead>\n    <tr style=\"text-align: right;\">\n      <th></th>\n      <th>Day_Id</th>\n      <th>Good_Bad</th>\n    </tr>\n  </thead>\n  <tbody>\n    <tr>\n      <th>0</th>\n      <td>52</td>\n      <td>0</td>\n    </tr>\n    <tr>\n      <th>1</th>\n      <td>84</td>\n      <td>1</td>\n    </tr>\n    <tr>\n      <th>2</th>\n      <td>87</td>\n      <td>0</td>\n    </tr>\n    <tr>\n      <th>3</th>\n      <td>89</td>\n      <td>0</td>\n    </tr>\n    <tr>\n      <th>4</th>\n      <td>109</td>\n      <td>1</td>\n    </tr>\n  </tbody>\n</table>\n</div>"
          },
          "metadata": {}
        }
      ]
    },
    {
      "metadata": {
        "_cell_guid": "7ef59dab-cb1f-4c87-afad-f9237eba93de",
        "collapsed": true,
        "_uuid": "9e36c01b6dfb469bd1b8486788a7bd62ffc02c9d",
        "trusted": true
      },
      "cell_type": "code",
      "source": "",
      "execution_count": null,
      "outputs": []
    }
  ],
  "metadata": {
    "language_info": {
      "name": "python",
      "version": "3.6.4",
      "mimetype": "text/x-python",
      "codemirror_mode": {
        "name": "ipython",
        "version": 3
      },
      "pygments_lexer": "ipython3",
      "nbconvert_exporter": "python",
      "file_extension": ".py"
    },
    "kernelspec": {
      "display_name": "Python 3",
      "language": "python",
      "name": "python3"
    }
  },
  "nbformat": 4,
  "nbformat_minor": 1
}