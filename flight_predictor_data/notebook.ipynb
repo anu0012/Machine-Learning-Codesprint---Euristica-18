{
  "cells": [
    {
      "metadata": {
        "_uuid": "8f2839f25d086af736a60e9eeb907d3b93b6e0e5",
        "_cell_guid": "b1076dfc-b9ad-4769-8c92-a6c4dae69d19",
        "collapsed": true,
        "trusted": true
      },
      "cell_type": "code",
      "source": "import numpy as np\nimport os\nimport pandas as pd\nimport sys\nimport matplotlib.pyplot as plt\n%matplotlib inline\nfrom sklearn.model_selection import train_test_split\nfrom sklearn.naive_bayes import MultinomialNB, BernoulliNB, GaussianNB\nfrom sklearn.svm import LinearSVC,SVC\nfrom sklearn.ensemble import RandomForestClassifier, GradientBoostingClassifier, VotingClassifier, ExtraTreesClassifier, AdaBoostClassifier, BaggingClassifier\nfrom sklearn.linear_model import SGDClassifier, LogisticRegression\nfrom sklearn.linear_model import Ridge, RidgeCV, ElasticNet, LassoCV, LassoLarsCV\nfrom sklearn.preprocessing import StandardScaler\nfrom sklearn.tree import DecisionTreeClassifier\nfrom sklearn.metrics import confusion_matrix, f1_score, accuracy_score, roc_auc_score, recall_score, precision_score,make_scorer\nimport seaborn as sns\nsns.set(color_codes=True)\nfrom scipy import stats\nfrom scipy.stats import norm, skew #for some statistics\nimport xgboost as xgb\nimport lightgbm as lgb\nfrom catboost import CatBoostClassifier\nnp.random.seed(25)",
      "execution_count": 30,
      "outputs": []
    },
    {
      "metadata": {
        "_uuid": "d629ff2d2480ee46fbb7e2d37f6b5fab8052498a",
        "_cell_guid": "79c7e3d0-c299-4dcb-8224-4455121ee9b0",
        "collapsed": true,
        "trusted": true
      },
      "cell_type": "code",
      "source": "flight_train = pd.read_csv('../input/flight_data_train.csv')\nweather_train = pd.read_csv('../input/weather_data_train.csv')\nweather_test = pd.read_csv('../input/weather_data_test.csv')",
      "execution_count": 2,
      "outputs": []
    },
    {
      "metadata": {
        "_uuid": "c4a1d4ee189584cd33691e215300d60d5c622e86",
        "_cell_guid": "080c3058-4829-4cd6-a294-9724dec4e359",
        "trusted": true
      },
      "cell_type": "code",
      "source": "flight_train.head()",
      "execution_count": 3,
      "outputs": [
        {
          "output_type": "execute_result",
          "execution_count": 3,
          "data": {
            "text/plain": "   Day_Id  Spot1 maxDistance  Spot1 totalDistance  Spot1 totalFlights  \\\n0       1               0.00                 0.00                   0   \n1       2              23.84                41.82                   2   \n2       3               0.00                 0.00                   0   \n3       4               0.00                 0.00                   0   \n4       5              24.40                48.20                   2   \n\n   Spot2 maxDistance  Spot2 totalDistance  Spot2 totalFlights  \\\n0                0.0                  0.0                   0   \n1                0.0                  0.0                   0   \n2                0.0                  0.0                   0   \n3                0.0                  0.0                   0   \n4                0.0                  0.0                   0   \n\n   Spot3 maxDistance  Spot3 totalDistance  Spot3 totalFlights  \\\n0                0.0                  0.0                   0   \n1                0.0                  0.0                   0   \n2                0.0                  0.0                   0   \n3                0.0                  0.0                   0   \n4                0.0                  0.0                   0   \n\n           ...           Spot285 totalFlights  Spot286 maxDistance  \\\n0          ...                              0                  0.0   \n1          ...                              0                  0.0   \n2          ...                              0                  0.0   \n3          ...                              0                  0.0   \n4          ...                              0                  0.0   \n\n   Spot286 totalDistance  Spot286 totalFlights  Spot287 maxDistance  \\\n0                    0.0                     0                  0.0   \n1                    0.0                     0                  0.0   \n2                    0.0                     0                  0.0   \n3                    0.0                     0                  0.0   \n4                    0.0                     0                  0.0   \n\n   Spot287 totalDistance  Spot287 totalFlights  Spot288 maxDistance  \\\n0                    0.0                     0                  0.0   \n1                    0.0                     0                  0.0   \n2                    0.0                     0                  0.0   \n3                    0.0                     0                  0.0   \n4                    0.0                     0                  0.0   \n\n   Spot288 totalDistance  Spot288 totalFlights  \n0                    0.0                     0  \n1                    0.0                     0  \n2                    0.0                     0  \n3                    0.0                     0  \n4                    0.0                     0  \n\n[5 rows x 865 columns]",
            "text/html": "<div>\n<style scoped>\n    .dataframe tbody tr th:only-of-type {\n        vertical-align: middle;\n    }\n\n    .dataframe tbody tr th {\n        vertical-align: top;\n    }\n\n    .dataframe thead th {\n        text-align: right;\n    }\n</style>\n<table border=\"1\" class=\"dataframe\">\n  <thead>\n    <tr style=\"text-align: right;\">\n      <th></th>\n      <th>Day_Id</th>\n      <th>Spot1 maxDistance</th>\n      <th>Spot1 totalDistance</th>\n      <th>Spot1 totalFlights</th>\n      <th>Spot2 maxDistance</th>\n      <th>Spot2 totalDistance</th>\n      <th>Spot2 totalFlights</th>\n      <th>Spot3 maxDistance</th>\n      <th>Spot3 totalDistance</th>\n      <th>Spot3 totalFlights</th>\n      <th>...</th>\n      <th>Spot285 totalFlights</th>\n      <th>Spot286 maxDistance</th>\n      <th>Spot286 totalDistance</th>\n      <th>Spot286 totalFlights</th>\n      <th>Spot287 maxDistance</th>\n      <th>Spot287 totalDistance</th>\n      <th>Spot287 totalFlights</th>\n      <th>Spot288 maxDistance</th>\n      <th>Spot288 totalDistance</th>\n      <th>Spot288 totalFlights</th>\n    </tr>\n  </thead>\n  <tbody>\n    <tr>\n      <th>0</th>\n      <td>1</td>\n      <td>0.00</td>\n      <td>0.00</td>\n      <td>0</td>\n      <td>0.0</td>\n      <td>0.0</td>\n      <td>0</td>\n      <td>0.0</td>\n      <td>0.0</td>\n      <td>0</td>\n      <td>...</td>\n      <td>0</td>\n      <td>0.0</td>\n      <td>0.0</td>\n      <td>0</td>\n      <td>0.0</td>\n      <td>0.0</td>\n      <td>0</td>\n      <td>0.0</td>\n      <td>0.0</td>\n      <td>0</td>\n    </tr>\n    <tr>\n      <th>1</th>\n      <td>2</td>\n      <td>23.84</td>\n      <td>41.82</td>\n      <td>2</td>\n      <td>0.0</td>\n      <td>0.0</td>\n      <td>0</td>\n      <td>0.0</td>\n      <td>0.0</td>\n      <td>0</td>\n      <td>...</td>\n      <td>0</td>\n      <td>0.0</td>\n      <td>0.0</td>\n      <td>0</td>\n      <td>0.0</td>\n      <td>0.0</td>\n      <td>0</td>\n      <td>0.0</td>\n      <td>0.0</td>\n      <td>0</td>\n    </tr>\n    <tr>\n      <th>2</th>\n      <td>3</td>\n      <td>0.00</td>\n      <td>0.00</td>\n      <td>0</td>\n      <td>0.0</td>\n      <td>0.0</td>\n      <td>0</td>\n      <td>0.0</td>\n      <td>0.0</td>\n      <td>0</td>\n      <td>...</td>\n      <td>0</td>\n      <td>0.0</td>\n      <td>0.0</td>\n      <td>0</td>\n      <td>0.0</td>\n      <td>0.0</td>\n      <td>0</td>\n      <td>0.0</td>\n      <td>0.0</td>\n      <td>0</td>\n    </tr>\n    <tr>\n      <th>3</th>\n      <td>4</td>\n      <td>0.00</td>\n      <td>0.00</td>\n      <td>0</td>\n      <td>0.0</td>\n      <td>0.0</td>\n      <td>0</td>\n      <td>0.0</td>\n      <td>0.0</td>\n      <td>0</td>\n      <td>...</td>\n      <td>0</td>\n      <td>0.0</td>\n      <td>0.0</td>\n      <td>0</td>\n      <td>0.0</td>\n      <td>0.0</td>\n      <td>0</td>\n      <td>0.0</td>\n      <td>0.0</td>\n      <td>0</td>\n    </tr>\n    <tr>\n      <th>4</th>\n      <td>5</td>\n      <td>24.40</td>\n      <td>48.20</td>\n      <td>2</td>\n      <td>0.0</td>\n      <td>0.0</td>\n      <td>0</td>\n      <td>0.0</td>\n      <td>0.0</td>\n      <td>0</td>\n      <td>...</td>\n      <td>0</td>\n      <td>0.0</td>\n      <td>0.0</td>\n      <td>0</td>\n      <td>0.0</td>\n      <td>0.0</td>\n      <td>0</td>\n      <td>0.0</td>\n      <td>0.0</td>\n      <td>0</td>\n    </tr>\n  </tbody>\n</table>\n<p>5 rows × 865 columns</p>\n</div>"
          },
          "metadata": {}
        }
      ]
    },
    {
      "metadata": {
        "_uuid": "e50b448fdafea769dfbee485e98151cdd561d618",
        "_cell_guid": "567f29a8-db38-4079-8722-323ee1e0cd74",
        "trusted": true
      },
      "cell_type": "code",
      "source": "weather_train.head()",
      "execution_count": 4,
      "outputs": [
        {
          "output_type": "execute_result",
          "execution_count": 4,
          "data": {
            "text/plain": "   Day_Id  Station1 Dew Point Height1  Station1 Dew Point Height2  \\\n0       1                    7.351064                    7.328571   \n1       2                    2.086769                    0.948308   \n2       3                    2.014286                    1.657143   \n3       4                    0.249462                   -0.153846   \n4       5                    2.827496                    2.179510   \n\n   Station1 Dew Point Height3  Station1 Dew Point Height4  \\\n0                    6.866540                    6.410266   \n1                   -0.190154                   -1.763636   \n2                    1.400000                    1.400000   \n3                   -1.998723                   -3.843600   \n4                    1.599225                    1.211628   \n\n   Station1 Dew Point Height5  Station1 Dew Point Height6  \\\n0                    5.918868                    5.309172   \n1                   -5.848000                   -8.795752   \n2                    0.407164                   -0.727164   \n3                   -4.712595                   -4.903435   \n4                    0.824031                    0.443396   \n\n   Station1 Dew Point Height7  Station1 Dew Point Height8  \\\n0                    4.687870                    4.066568   \n1                   -9.963894                  -11.132035   \n2                   -1.861493                   -2.995821   \n3                   -5.094275                   -5.502703   \n4                    0.066038                   -0.311321   \n\n   Station1 Dew Point Height9              ...               \\\n0                    2.283636              ...                \n1                  -12.300177              ...                \n2                   -4.086486              ...                \n3                   -6.427273              ...                \n4                   -0.688679              ...                \n\n   Station5 Wind Speed Height36  Station5 Wind Speed Height37  \\\n0                     52.213144                     52.923623   \n1                      3.924168                      3.739211   \n2                     15.656836                     15.388740   \n3                     39.408068                     38.748642   \n4                     50.925714                     50.354286   \n\n   Station5 Wind Speed Height38  Station5 Wind Speed Height39  \\\n0                     53.634103                     54.344583   \n1                      3.554254                      3.369297   \n2                     15.120643                     14.882979   \n3                     38.089216                     37.429791   \n4                     50.000000                     50.000000   \n\n   Station5 Wind Speed Height40  Station5 Wind Speed Height41  \\\n0                     55.055062                     55.765542   \n1                      3.184340                      2.999383   \n2                     14.670213                     14.457447   \n3                     36.770365                     36.110939   \n4                     50.000000                     49.557377   \n\n   Station5 Wind Speed Height42  Station5 Wind Speed Height43  \\\n0                     56.264822                     56.660079   \n1                      2.814427                      2.629470   \n2                     14.244681                     14.031915   \n3                     35.451513                     34.792087   \n4                     49.010929                     50.613169   \n\n   Station5 Wind Speed Height44  Station5 Wind Speed Height45  \n0                     57.093960                     57.765101  \n1                      2.444513                      2.259556  \n2                     13.819149                     13.606383  \n3                     34.132661                     33.473235  \n4                     52.259259                     53.762376  \n\n[5 rows x 1126 columns]",
            "text/html": "<div>\n<style scoped>\n    .dataframe tbody tr th:only-of-type {\n        vertical-align: middle;\n    }\n\n    .dataframe tbody tr th {\n        vertical-align: top;\n    }\n\n    .dataframe thead th {\n        text-align: right;\n    }\n</style>\n<table border=\"1\" class=\"dataframe\">\n  <thead>\n    <tr style=\"text-align: right;\">\n      <th></th>\n      <th>Day_Id</th>\n      <th>Station1 Dew Point Height1</th>\n      <th>Station1 Dew Point Height2</th>\n      <th>Station1 Dew Point Height3</th>\n      <th>Station1 Dew Point Height4</th>\n      <th>Station1 Dew Point Height5</th>\n      <th>Station1 Dew Point Height6</th>\n      <th>Station1 Dew Point Height7</th>\n      <th>Station1 Dew Point Height8</th>\n      <th>Station1 Dew Point Height9</th>\n      <th>...</th>\n      <th>Station5 Wind Speed Height36</th>\n      <th>Station5 Wind Speed Height37</th>\n      <th>Station5 Wind Speed Height38</th>\n      <th>Station5 Wind Speed Height39</th>\n      <th>Station5 Wind Speed Height40</th>\n      <th>Station5 Wind Speed Height41</th>\n      <th>Station5 Wind Speed Height42</th>\n      <th>Station5 Wind Speed Height43</th>\n      <th>Station5 Wind Speed Height44</th>\n      <th>Station5 Wind Speed Height45</th>\n    </tr>\n  </thead>\n  <tbody>\n    <tr>\n      <th>0</th>\n      <td>1</td>\n      <td>7.351064</td>\n      <td>7.328571</td>\n      <td>6.866540</td>\n      <td>6.410266</td>\n      <td>5.918868</td>\n      <td>5.309172</td>\n      <td>4.687870</td>\n      <td>4.066568</td>\n      <td>2.283636</td>\n      <td>...</td>\n      <td>52.213144</td>\n      <td>52.923623</td>\n      <td>53.634103</td>\n      <td>54.344583</td>\n      <td>55.055062</td>\n      <td>55.765542</td>\n      <td>56.264822</td>\n      <td>56.660079</td>\n      <td>57.093960</td>\n      <td>57.765101</td>\n    </tr>\n    <tr>\n      <th>1</th>\n      <td>2</td>\n      <td>2.086769</td>\n      <td>0.948308</td>\n      <td>-0.190154</td>\n      <td>-1.763636</td>\n      <td>-5.848000</td>\n      <td>-8.795752</td>\n      <td>-9.963894</td>\n      <td>-11.132035</td>\n      <td>-12.300177</td>\n      <td>...</td>\n      <td>3.924168</td>\n      <td>3.739211</td>\n      <td>3.554254</td>\n      <td>3.369297</td>\n      <td>3.184340</td>\n      <td>2.999383</td>\n      <td>2.814427</td>\n      <td>2.629470</td>\n      <td>2.444513</td>\n      <td>2.259556</td>\n    </tr>\n    <tr>\n      <th>2</th>\n      <td>3</td>\n      <td>2.014286</td>\n      <td>1.657143</td>\n      <td>1.400000</td>\n      <td>1.400000</td>\n      <td>0.407164</td>\n      <td>-0.727164</td>\n      <td>-1.861493</td>\n      <td>-2.995821</td>\n      <td>-4.086486</td>\n      <td>...</td>\n      <td>15.656836</td>\n      <td>15.388740</td>\n      <td>15.120643</td>\n      <td>14.882979</td>\n      <td>14.670213</td>\n      <td>14.457447</td>\n      <td>14.244681</td>\n      <td>14.031915</td>\n      <td>13.819149</td>\n      <td>13.606383</td>\n    </tr>\n    <tr>\n      <th>3</th>\n      <td>4</td>\n      <td>0.249462</td>\n      <td>-0.153846</td>\n      <td>-1.998723</td>\n      <td>-3.843600</td>\n      <td>-4.712595</td>\n      <td>-4.903435</td>\n      <td>-5.094275</td>\n      <td>-5.502703</td>\n      <td>-6.427273</td>\n      <td>...</td>\n      <td>39.408068</td>\n      <td>38.748642</td>\n      <td>38.089216</td>\n      <td>37.429791</td>\n      <td>36.770365</td>\n      <td>36.110939</td>\n      <td>35.451513</td>\n      <td>34.792087</td>\n      <td>34.132661</td>\n      <td>33.473235</td>\n    </tr>\n    <tr>\n      <th>4</th>\n      <td>5</td>\n      <td>2.827496</td>\n      <td>2.179510</td>\n      <td>1.599225</td>\n      <td>1.211628</td>\n      <td>0.824031</td>\n      <td>0.443396</td>\n      <td>0.066038</td>\n      <td>-0.311321</td>\n      <td>-0.688679</td>\n      <td>...</td>\n      <td>50.925714</td>\n      <td>50.354286</td>\n      <td>50.000000</td>\n      <td>50.000000</td>\n      <td>50.000000</td>\n      <td>49.557377</td>\n      <td>49.010929</td>\n      <td>50.613169</td>\n      <td>52.259259</td>\n      <td>53.762376</td>\n    </tr>\n  </tbody>\n</table>\n<p>5 rows × 1126 columns</p>\n</div>"
          },
          "metadata": {}
        }
      ]
    },
    {
      "metadata": {
        "_uuid": "76904ff2f2dd58e148b080217f3448e537b1c0d8",
        "_cell_guid": "18e0b5ca-9a10-4ada-a7c9-ea3b231f7fca"
      },
      "cell_type": "markdown",
      "source": "## Feature Engineering"
    },
    {
      "metadata": {
        "_uuid": "3fd53303042fffd90dedc734931dc4b5657e3ba7",
        "_cell_guid": "93f63d01-3d25-4d46-a506-419d603434da"
      },
      "cell_type": "markdown",
      "source": "### For Flight data"
    },
    {
      "metadata": {
        "_uuid": "639cb4289fb6205a0b15c203f2c6903bc660d7c4",
        "_cell_guid": "3a061094-1173-4858-9985-4b1ca38e3584"
      },
      "cell_type": "markdown",
      "source": "Let's create target column using total number of flights taken on a day."
    },
    {
      "metadata": {
        "_uuid": "2176661dd123edc99db4ffea36e8654823fd92bc",
        "_cell_guid": "d098d942-a1fb-4ab4-a839-1b78a8fd8d36",
        "collapsed": true,
        "trusted": true
      },
      "cell_type": "code",
      "source": "# select all columns with totalFlights\ncolumns = flight_train.columns[flight_train.columns.str.endswith('totalFlights')]\n\n# add a new columns TOTAL_FLIGHTS_FOR_ALL_SPOTS for all spots\nflight_train['TOTAL_FLIGHTS_FOR_ALL_SPOTS'] = flight_train[columns].sum(axis=1)\n\n# if TOTAL_FLIGHTS_FOR_ALL_SPOTS >= 15 it is a good day(1) otherwise bad day (0)\nflight_train['Good_Bad'] = np.where(flight_train['TOTAL_FLIGHTS_FOR_ALL_SPOTS'] >=15, 1, 0)",
      "execution_count": 5,
      "outputs": []
    },
    {
      "metadata": {
        "_uuid": "b0ed4ba5617b803151aecde75d537ab5e4d390c7",
        "_cell_guid": "fddc23d7-41e8-4ad5-9b9e-62f8a8a1f879"
      },
      "cell_type": "markdown",
      "source": "Let's create some more features."
    },
    {
      "metadata": {
        "_uuid": "e0018faa2a32da728f9fc99b8d17a8ab1e553d56",
        "_cell_guid": "dc734608-672d-427b-8d98-fa4b0ef55037",
        "collapsed": true,
        "trusted": true
      },
      "cell_type": "code",
      "source": "columns = flight_train.columns[flight_train.columns.str.endswith('totalDistance')]\n\nflight_train['TOTAL_DISTANCE_FOR_ALL_SPOTS'] = flight_train[columns].sum(axis=1)",
      "execution_count": 6,
      "outputs": []
    },
    {
      "metadata": {
        "_uuid": "ad094d9214dc83ad2e96968ac9cde5bb331a5136",
        "_cell_guid": "c7058dbf-1ffe-45f9-818f-02b8013c0a2e",
        "collapsed": true,
        "trusted": true
      },
      "cell_type": "code",
      "source": "columns = flight_train.columns[flight_train.columns.str.endswith('maxDistance')]\n\nflight_train['TOTAL_MAX_DISTANCE_FOR_ALL_SPOTS'] = flight_train[columns].sum(axis=1)",
      "execution_count": 7,
      "outputs": []
    },
    {
      "metadata": {
        "_uuid": "286fdabc22f5bf810f917b617f2ad8f7aeafe6ae",
        "_cell_guid": "881559ed-c858-42aa-8299-c3eab43c719e",
        "collapsed": true,
        "trusted": true
      },
      "cell_type": "code",
      "source": "flight_train['AVERAGE_DISTANCE'] = flight_train['TOTAL_DISTANCE_FOR_ALL_SPOTS']/288\nflight_train['AVERAGE_FLIGHTS'] = flight_train['TOTAL_FLIGHTS_FOR_ALL_SPOTS']/288\nflight_train['AVERAGE_MAX_DISTANCE'] = flight_train['TOTAL_MAX_DISTANCE_FOR_ALL_SPOTS']/288",
      "execution_count": 8,
      "outputs": []
    },
    {
      "metadata": {
        "_uuid": "e54098a42aad9077bc33e6d9396fe9500df3c1c3",
        "_cell_guid": "04e2240d-2fba-44e6-b1e1-0908eede7eb5"
      },
      "cell_type": "markdown",
      "source": "### For weather data"
    },
    {
      "metadata": {
        "_uuid": "8b7f72a94979b5585a8fbcf9986098d254e65f9c",
        "_cell_guid": "ac18acd8-6989-4dc5-a623-44aa115f1d38",
        "collapsed": true,
        "trusted": true
      },
      "cell_type": "code",
      "source": "# ### Train\n\n# columns = weather_train.columns[weather_train.columns.str.contains('Pressure')]\n# weather_train['AVERAGE_PRESSURE'] = weather_train[columns].sum(axis=1) / 45\n\n# columns = weather_train.columns[weather_train.columns.str.contains('Temperature')]\n# weather_train['AVERAGE_TEMPERATURE'] = weather_train[columns].sum(axis=1) / 45\n\n# columns = weather_train.columns[weather_train.columns.str.contains('Wind Speed')]\n# weather_train['AVERAGE_WIND_SPEED'] = weather_train[columns].sum(axis=1) / 45\n\n# columns = weather_train.columns[weather_train.columns.str.contains('Wind Direction')]\n# weather_train['AVERAGE_WIND_DIRECTION'] = weather_train[columns].sum(axis=1) / 45\n\n# columns = weather_train.columns[weather_train.columns.str.contains('Dew Point')]\n# weather_train['AVERAGE_DEW_POINT'] = weather_train[columns].sum(axis=1) / 45",
      "execution_count": 9,
      "outputs": []
    },
    {
      "metadata": {
        "_uuid": "b29cecff0536256f1d55c150890d9ea4f7e3cb66",
        "_cell_guid": "20f7ed4b-8d70-4647-b24c-af44ea9f0036",
        "collapsed": true,
        "trusted": true
      },
      "cell_type": "code",
      "source": "# ### Train\n\n# columns = weather_test.columns[weather_test.columns.str.contains('Pressure')]\n# weather_test['AVERAGE_PRESSURE'] = weather_test[columns].sum(axis=1) / 45\n\n# columns = weather_test.columns[weather_test.columns.str.contains('Temperature')]\n# weather_test['AVERAGE_TEMPERATURE'] = weather_test[columns].sum(axis=1) / 45\n\n# columns = weather_test.columns[weather_test.columns.str.contains('Wind Speed')]\n# weather_test['AVERAGE_WIND_SPEED'] = weather_test[columns].sum(axis=1) / 45\n\n# columns = weather_test.columns[weather_test.columns.str.contains('Wind Direction')]\n# weather_test['AVERAGE_WIND_DIRECTION'] = weather_test[columns].sum(axis=1) / 45\n\n# columns = weather_test.columns[weather_test.columns.str.contains('Dew Point')]\n# weather_test['AVERAGE_DEW_POINT'] = weather_test[columns].sum(axis=1) / 45",
      "execution_count": 10,
      "outputs": []
    },
    {
      "metadata": {
        "_uuid": "0840b523e8aec3b8676acc9269f48021e7a788e8",
        "_cell_guid": "b2c92247-0343-44fe-878d-7665e6721341"
      },
      "cell_type": "markdown",
      "source": "## Merge flight data and weather data"
    },
    {
      "metadata": {
        "_uuid": "52d7c197f2f7b8a2cadac57fab18dee57fef8d84",
        "_cell_guid": "cb831d07-6b03-4067-8323-75974f6cc1b8",
        "collapsed": true,
        "trusted": true
      },
      "cell_type": "code",
      "source": "weather_train = pd.merge(weather_train, flight_train[['Day_Id','Good_Bad']], on='Day_Id')",
      "execution_count": 11,
      "outputs": []
    },
    {
      "metadata": {
        "_uuid": "124d29a2a705d06bf1c7b718ee8468aeb92fdfaf",
        "_cell_guid": "f390ba12-90fe-4023-baf4-416b77e7a951",
        "trusted": true
      },
      "cell_type": "code",
      "source": "weather_train.head()",
      "execution_count": 12,
      "outputs": [
        {
          "output_type": "execute_result",
          "execution_count": 12,
          "data": {
            "text/plain": "   Day_Id  Station1 Dew Point Height1  Station1 Dew Point Height2  \\\n0       1                    7.351064                    7.328571   \n1       2                    2.086769                    0.948308   \n2       3                    2.014286                    1.657143   \n3       4                    0.249462                   -0.153846   \n4       5                    2.827496                    2.179510   \n\n   Station1 Dew Point Height3  Station1 Dew Point Height4  \\\n0                    6.866540                    6.410266   \n1                   -0.190154                   -1.763636   \n2                    1.400000                    1.400000   \n3                   -1.998723                   -3.843600   \n4                    1.599225                    1.211628   \n\n   Station1 Dew Point Height5  Station1 Dew Point Height6  \\\n0                    5.918868                    5.309172   \n1                   -5.848000                   -8.795752   \n2                    0.407164                   -0.727164   \n3                   -4.712595                   -4.903435   \n4                    0.824031                    0.443396   \n\n   Station1 Dew Point Height7  Station1 Dew Point Height8  \\\n0                    4.687870                    4.066568   \n1                   -9.963894                  -11.132035   \n2                   -1.861493                   -2.995821   \n3                   -5.094275                   -5.502703   \n4                    0.066038                   -0.311321   \n\n   Station1 Dew Point Height9    ...     Station5 Wind Speed Height37  \\\n0                    2.283636    ...                        52.923623   \n1                  -12.300177    ...                         3.739211   \n2                   -4.086486    ...                        15.388740   \n3                   -6.427273    ...                        38.748642   \n4                   -0.688679    ...                        50.354286   \n\n   Station5 Wind Speed Height38  Station5 Wind Speed Height39  \\\n0                     53.634103                     54.344583   \n1                      3.554254                      3.369297   \n2                     15.120643                     14.882979   \n3                     38.089216                     37.429791   \n4                     50.000000                     50.000000   \n\n   Station5 Wind Speed Height40  Station5 Wind Speed Height41  \\\n0                     55.055062                     55.765542   \n1                      3.184340                      2.999383   \n2                     14.670213                     14.457447   \n3                     36.770365                     36.110939   \n4                     50.000000                     49.557377   \n\n   Station5 Wind Speed Height42  Station5 Wind Speed Height43  \\\n0                     56.264822                     56.660079   \n1                      2.814427                      2.629470   \n2                     14.244681                     14.031915   \n3                     35.451513                     34.792087   \n4                     49.010929                     50.613169   \n\n   Station5 Wind Speed Height44  Station5 Wind Speed Height45  Good_Bad  \n0                     57.093960                     57.765101         0  \n1                      2.444513                      2.259556         0  \n2                     13.819149                     13.606383         0  \n3                     34.132661                     33.473235         0  \n4                     52.259259                     53.762376         0  \n\n[5 rows x 1127 columns]",
            "text/html": "<div>\n<style scoped>\n    .dataframe tbody tr th:only-of-type {\n        vertical-align: middle;\n    }\n\n    .dataframe tbody tr th {\n        vertical-align: top;\n    }\n\n    .dataframe thead th {\n        text-align: right;\n    }\n</style>\n<table border=\"1\" class=\"dataframe\">\n  <thead>\n    <tr style=\"text-align: right;\">\n      <th></th>\n      <th>Day_Id</th>\n      <th>Station1 Dew Point Height1</th>\n      <th>Station1 Dew Point Height2</th>\n      <th>Station1 Dew Point Height3</th>\n      <th>Station1 Dew Point Height4</th>\n      <th>Station1 Dew Point Height5</th>\n      <th>Station1 Dew Point Height6</th>\n      <th>Station1 Dew Point Height7</th>\n      <th>Station1 Dew Point Height8</th>\n      <th>Station1 Dew Point Height9</th>\n      <th>...</th>\n      <th>Station5 Wind Speed Height37</th>\n      <th>Station5 Wind Speed Height38</th>\n      <th>Station5 Wind Speed Height39</th>\n      <th>Station5 Wind Speed Height40</th>\n      <th>Station5 Wind Speed Height41</th>\n      <th>Station5 Wind Speed Height42</th>\n      <th>Station5 Wind Speed Height43</th>\n      <th>Station5 Wind Speed Height44</th>\n      <th>Station5 Wind Speed Height45</th>\n      <th>Good_Bad</th>\n    </tr>\n  </thead>\n  <tbody>\n    <tr>\n      <th>0</th>\n      <td>1</td>\n      <td>7.351064</td>\n      <td>7.328571</td>\n      <td>6.866540</td>\n      <td>6.410266</td>\n      <td>5.918868</td>\n      <td>5.309172</td>\n      <td>4.687870</td>\n      <td>4.066568</td>\n      <td>2.283636</td>\n      <td>...</td>\n      <td>52.923623</td>\n      <td>53.634103</td>\n      <td>54.344583</td>\n      <td>55.055062</td>\n      <td>55.765542</td>\n      <td>56.264822</td>\n      <td>56.660079</td>\n      <td>57.093960</td>\n      <td>57.765101</td>\n      <td>0</td>\n    </tr>\n    <tr>\n      <th>1</th>\n      <td>2</td>\n      <td>2.086769</td>\n      <td>0.948308</td>\n      <td>-0.190154</td>\n      <td>-1.763636</td>\n      <td>-5.848000</td>\n      <td>-8.795752</td>\n      <td>-9.963894</td>\n      <td>-11.132035</td>\n      <td>-12.300177</td>\n      <td>...</td>\n      <td>3.739211</td>\n      <td>3.554254</td>\n      <td>3.369297</td>\n      <td>3.184340</td>\n      <td>2.999383</td>\n      <td>2.814427</td>\n      <td>2.629470</td>\n      <td>2.444513</td>\n      <td>2.259556</td>\n      <td>0</td>\n    </tr>\n    <tr>\n      <th>2</th>\n      <td>3</td>\n      <td>2.014286</td>\n      <td>1.657143</td>\n      <td>1.400000</td>\n      <td>1.400000</td>\n      <td>0.407164</td>\n      <td>-0.727164</td>\n      <td>-1.861493</td>\n      <td>-2.995821</td>\n      <td>-4.086486</td>\n      <td>...</td>\n      <td>15.388740</td>\n      <td>15.120643</td>\n      <td>14.882979</td>\n      <td>14.670213</td>\n      <td>14.457447</td>\n      <td>14.244681</td>\n      <td>14.031915</td>\n      <td>13.819149</td>\n      <td>13.606383</td>\n      <td>0</td>\n    </tr>\n    <tr>\n      <th>3</th>\n      <td>4</td>\n      <td>0.249462</td>\n      <td>-0.153846</td>\n      <td>-1.998723</td>\n      <td>-3.843600</td>\n      <td>-4.712595</td>\n      <td>-4.903435</td>\n      <td>-5.094275</td>\n      <td>-5.502703</td>\n      <td>-6.427273</td>\n      <td>...</td>\n      <td>38.748642</td>\n      <td>38.089216</td>\n      <td>37.429791</td>\n      <td>36.770365</td>\n      <td>36.110939</td>\n      <td>35.451513</td>\n      <td>34.792087</td>\n      <td>34.132661</td>\n      <td>33.473235</td>\n      <td>0</td>\n    </tr>\n    <tr>\n      <th>4</th>\n      <td>5</td>\n      <td>2.827496</td>\n      <td>2.179510</td>\n      <td>1.599225</td>\n      <td>1.211628</td>\n      <td>0.824031</td>\n      <td>0.443396</td>\n      <td>0.066038</td>\n      <td>-0.311321</td>\n      <td>-0.688679</td>\n      <td>...</td>\n      <td>50.354286</td>\n      <td>50.000000</td>\n      <td>50.000000</td>\n      <td>50.000000</td>\n      <td>49.557377</td>\n      <td>49.010929</td>\n      <td>50.613169</td>\n      <td>52.259259</td>\n      <td>53.762376</td>\n      <td>0</td>\n    </tr>\n  </tbody>\n</table>\n<p>5 rows × 1127 columns</p>\n</div>"
          },
          "metadata": {}
        }
      ]
    },
    {
      "metadata": {
        "trusted": true,
        "_uuid": "6dcaae8761c8202c1307672546b472f7a27228ba"
      },
      "cell_type": "code",
      "source": "sns.distplot(weather_train['Good_Bad'])",
      "execution_count": 38,
      "outputs": [
        {
          "output_type": "execute_result",
          "execution_count": 38,
          "data": {
            "text/plain": "<matplotlib.axes._subplots.AxesSubplot at 0x7fb49b81ef60>"
          },
          "metadata": {}
        },
        {
          "output_type": "display_data",
          "data": {
            "text/plain": "<matplotlib.figure.Figure at 0x7fb49b7d4588>",
            "image/png": "[encoded data removed]"
          },
          "metadata": {}
        }
      ]
    },
    {
      "metadata": {
        "_uuid": "04579579df5bf171c460dc7d55a172906b6d7d20",
        "_cell_guid": "78e813c9-dd56-4d7f-9235-66f4672887a8",
        "collapsed": true,
        "trusted": true
      },
      "cell_type": "code",
      "source": "# select features for model training\nfeature_names = [x for x in weather_train.columns if x not in ['Day_Id','Good_Bad']]\ntarget = weather_train['Good_Bad']",
      "execution_count": 13,
      "outputs": []
    },
    {
      "metadata": {
        "_uuid": "168252c2d051d8f8948eafc7f0646879ee4ee846",
        "scrolled": true,
        "_cell_guid": "ac803d62-9262-4165-a6b3-5c4e3c584bfb",
        "collapsed": true,
        "trusted": true
      },
      "cell_type": "code",
      "source": "# from sklearn.decomposition import PCA\n# from sklearn.preprocessing import scale\n\n# X=weather_train[feature_names].values\n# X = scale(X)\n\n# Y=weather_test[feature_names].values\n# Y = scale(Y)\n\n# pca = PCA(n_components=200)\n# pca.fit(X)\n\n# #The amount of variance that each PC explains\n# var= pca.explained_variance_ratio_\n\n# print(var)\n\n# #Cumulative Variance explains\n# var1=np.cumsum(np.round(pca.explained_variance_ratio_, decimals=4)*100)\n\n# plt.plot(var1)",
      "execution_count": 14,
      "outputs": []
    },
    {
      "metadata": {
        "_uuid": "a434fb9ecb9d4e9b9486b33fb9fd815a4c7e6134",
        "_cell_guid": "d5c89fa6-df0d-441c-ad0e-e2f108d43982",
        "collapsed": true,
        "trusted": true
      },
      "cell_type": "code",
      "source": "# pca = PCA(n_components=200)\n# pca.fit(X)\n# X_train=pca.fit_transform(X)\n# X_test = pca.transform(Y)\n\n# model= CatBoostClassifier(learning_rate=0.1,verbose=False, iterations=500,depth=8)\n\n# ## model training and prediction\n# model.fit(X_train, target)\n# pred = model.predict(X_test)",
      "execution_count": 15,
      "outputs": []
    },
    {
      "metadata": {
        "_uuid": "63c6e57d75ae6e4c608f298a71a103a2338b4b02",
        "_cell_guid": "32702231-ed71-47f6-bcfd-e58a7ca6a067"
      },
      "cell_type": "markdown",
      "source": "## Model Validation"
    },
    {
      "metadata": {
        "_uuid": "6f323937b9add43e824d953bae795b95bea3d0fd",
        "_cell_guid": "aaf566c5-3771-459a-a5bd-48cde7ed0660",
        "trusted": true
      },
      "cell_type": "code",
      "source": "# Splitting the dataset into the Training set and Test set\nfrom sklearn.cross_validation import train_test_split\nX_train, X_test, y_train, y_test = train_test_split(weather_train[feature_names], target, test_size = 0.25, random_state = 42)\n\n# Feature Scaling\nfrom sklearn.preprocessing import StandardScaler\nsc = StandardScaler()\nX_train = sc.fit_transform(X_train)\nX_test = sc.transform(X_test)\n\n# Voting Classifier\nvote_est = [\n    \n    ('lgb', lgb.LGBMClassifier()),\n    ('lgb1', lgb.LGBMClassifier(max_depth=8)),\n    ('lgb2', lgb.LGBMClassifier(max_depth=6)),\n    ('lgb3', lgb.LGBMClassifier(max_depth=10)),\n    ('lgb4', lgb.LGBMClassifier(max_depth=12)),\n    ('xgb', xgb.XGBClassifier())\n\n]\n\nmodel = VotingClassifier(estimators = vote_est , voting = 'soft')\n## model training and prediction\nmodel.fit(X_train, y_train)\npred = model.predict(X_test)\n\n## model performance evaluation using different matrices\nprint(\"LightGBM :\\n\")\nprint(\"confusion_matrix: \" + str(confusion_matrix(pred, y_test.values)))\nprint(\"recall_score: \" + str(recall_score(pred, y_test.values)))\nprint(\"precision_score: \" + str(precision_score(pred, y_test.values)))\nprint(\"f1_score: \" + str(f1_score(pred, y_test.values)))\nprint(\"accuracy_score: \" + str(accuracy_score(pred, y_test.values)))\nprint(\"roc_auc_score: \" + str(roc_auc_score(pred, y_test.values)))",
      "execution_count": null,
      "outputs": []
    },
    {
      "metadata": {
        "_uuid": "0e7009f53c39a06944fc2c80b45740276cc4b7b5",
        "_cell_guid": "d5c567d9-5330-4722-b75c-0da568170c05",
        "collapsed": true,
        "trusted": true
      },
      "cell_type": "code",
      "source": "# Voting Classifier\nvote_est = [\n    ('ada', AdaBoostClassifier()),\n    ('bc', BaggingClassifier()),\n    ('etc',ExtraTreesClassifier()),\n    ('gbc', GradientBoostingClassifier()),\n    ('rfc', RandomForestClassifier()),\n    ('lr', LogisticRegression()),\n    ('xgb', xgb.XGBClassifier()),\n    ('lgb', lgb.LGBMClassifier())\n\n]\n\nmodel = VotingClassifier(estimators = vote_est , voting = 'soft')\n\n## model training and prediction\nmodel.fit(weather_train[feature_names], target)\npred = model.predict(weather_test[feature_names])",
      "execution_count": 17,
      "outputs": []
    },
    {
      "metadata": {
        "_uuid": "08f12cba00fcb7779b14cbaec422dda66b5d1a06",
        "_cell_guid": "e716fbaf-f7ec-4bcc-8788-8d16b654e65d",
        "trusted": true
      },
      "cell_type": "code",
      "source": "## make submission\nsub = pd.DataFrame()\nsub['Day_Id'] = weather_test['Day_Id']\nsub['Good_Bad'] = pred.astype(int)\nsub.to_csv('result.csv', index=False)",
      "execution_count": 18,
      "outputs": [
        {
          "output_type": "error",
          "ename": "ValueError",
          "evalue": "Length of values does not match length of index",
          "traceback": [
            "\u001b[0;31m---------------------------------------------------------------------------\u001b[0m",
            "\u001b[0;31mValueError\u001b[0m                                Traceback (most recent call last)",
            "\u001b[0;32m<ipython-input-18-39d7c00ba5e6>\u001b[0m in \u001b[0;36m<module>\u001b[0;34m()\u001b[0m\n\u001b[1;32m      2\u001b[0m \u001b[0msub\u001b[0m \u001b[0;34m=\u001b[0m \u001b[0mpd\u001b[0m\u001b[0;34m.\u001b[0m\u001b[0mDataFrame\u001b[0m\u001b[0;34m(\u001b[0m\u001b[0;34m)\u001b[0m\u001b[0;34m\u001b[0m\u001b[0m\n\u001b[1;32m      3\u001b[0m \u001b[0msub\u001b[0m\u001b[0;34m[\u001b[0m\u001b[0;34m'Day_Id'\u001b[0m\u001b[0;34m]\u001b[0m \u001b[0;34m=\u001b[0m \u001b[0mweather_test\u001b[0m\u001b[0;34m[\u001b[0m\u001b[0;34m'Day_Id'\u001b[0m\u001b[0;34m]\u001b[0m\u001b[0;34m\u001b[0m\u001b[0m\n\u001b[0;32m----> 4\u001b[0;31m \u001b[0msub\u001b[0m\u001b[0;34m[\u001b[0m\u001b[0;34m'Good_Bad'\u001b[0m\u001b[0;34m]\u001b[0m \u001b[0;34m=\u001b[0m \u001b[0mpred\u001b[0m\u001b[0;34m.\u001b[0m\u001b[0mastype\u001b[0m\u001b[0;34m(\u001b[0m\u001b[0mint\u001b[0m\u001b[0;34m)\u001b[0m\u001b[0;34m\u001b[0m\u001b[0m\n\u001b[0m\u001b[1;32m      5\u001b[0m \u001b[0msub\u001b[0m\u001b[0;34m.\u001b[0m\u001b[0mto_csv\u001b[0m\u001b[0;34m(\u001b[0m\u001b[0;34m'result.csv'\u001b[0m\u001b[0;34m,\u001b[0m \u001b[0mindex\u001b[0m\u001b[0;34m=\u001b[0m\u001b[0;32mFalse\u001b[0m\u001b[0;34m)\u001b[0m\u001b[0;34m\u001b[0m\u001b[0m\n",
            "\u001b[0;32m/opt/conda/lib/python3.6/site-packages/pandas/core/frame.py\u001b[0m in \u001b[0;36m__setitem__\u001b[0;34m(self, key, value)\u001b[0m\n\u001b[1;32m   2517\u001b[0m         \u001b[0;32melse\u001b[0m\u001b[0;34m:\u001b[0m\u001b[0;34m\u001b[0m\u001b[0m\n\u001b[1;32m   2518\u001b[0m             \u001b[0;31m# set column\u001b[0m\u001b[0;34m\u001b[0m\u001b[0;34m\u001b[0m\u001b[0m\n\u001b[0;32m-> 2519\u001b[0;31m             \u001b[0mself\u001b[0m\u001b[0;34m.\u001b[0m\u001b[0m_set_item\u001b[0m\u001b[0;34m(\u001b[0m\u001b[0mkey\u001b[0m\u001b[0;34m,\u001b[0m \u001b[0mvalue\u001b[0m\u001b[0;34m)\u001b[0m\u001b[0;34m\u001b[0m\u001b[0m\n\u001b[0m\u001b[1;32m   2520\u001b[0m \u001b[0;34m\u001b[0m\u001b[0m\n\u001b[1;32m   2521\u001b[0m     \u001b[0;32mdef\u001b[0m \u001b[0m_setitem_slice\u001b[0m\u001b[0;34m(\u001b[0m\u001b[0mself\u001b[0m\u001b[0;34m,\u001b[0m \u001b[0mkey\u001b[0m\u001b[0;34m,\u001b[0m \u001b[0mvalue\u001b[0m\u001b[0;34m)\u001b[0m\u001b[0;34m:\u001b[0m\u001b[0;34m\u001b[0m\u001b[0m\n",
            "\u001b[0;32m/opt/conda/lib/python3.6/site-packages/pandas/core/frame.py\u001b[0m in \u001b[0;36m_set_item\u001b[0;34m(self, key, value)\u001b[0m\n\u001b[1;32m   2583\u001b[0m \u001b[0;34m\u001b[0m\u001b[0m\n\u001b[1;32m   2584\u001b[0m         \u001b[0mself\u001b[0m\u001b[0;34m.\u001b[0m\u001b[0m_ensure_valid_index\u001b[0m\u001b[0;34m(\u001b[0m\u001b[0mvalue\u001b[0m\u001b[0;34m)\u001b[0m\u001b[0;34m\u001b[0m\u001b[0m\n\u001b[0;32m-> 2585\u001b[0;31m         \u001b[0mvalue\u001b[0m \u001b[0;34m=\u001b[0m \u001b[0mself\u001b[0m\u001b[0;34m.\u001b[0m\u001b[0m_sanitize_column\u001b[0m\u001b[0;34m(\u001b[0m\u001b[0mkey\u001b[0m\u001b[0;34m,\u001b[0m \u001b[0mvalue\u001b[0m\u001b[0;34m)\u001b[0m\u001b[0;34m\u001b[0m\u001b[0m\n\u001b[0m\u001b[1;32m   2586\u001b[0m         \u001b[0mNDFrame\u001b[0m\u001b[0;34m.\u001b[0m\u001b[0m_set_item\u001b[0m\u001b[0;34m(\u001b[0m\u001b[0mself\u001b[0m\u001b[0;34m,\u001b[0m \u001b[0mkey\u001b[0m\u001b[0;34m,\u001b[0m \u001b[0mvalue\u001b[0m\u001b[0;34m)\u001b[0m\u001b[0;34m\u001b[0m\u001b[0m\n\u001b[1;32m   2587\u001b[0m \u001b[0;34m\u001b[0m\u001b[0m\n",
            "\u001b[0;32m/opt/conda/lib/python3.6/site-packages/pandas/core/frame.py\u001b[0m in \u001b[0;36m_sanitize_column\u001b[0;34m(self, key, value, broadcast)\u001b[0m\n\u001b[1;32m   2758\u001b[0m \u001b[0;34m\u001b[0m\u001b[0m\n\u001b[1;32m   2759\u001b[0m             \u001b[0;31m# turn me into an ndarray\u001b[0m\u001b[0;34m\u001b[0m\u001b[0;34m\u001b[0m\u001b[0m\n\u001b[0;32m-> 2760\u001b[0;31m             \u001b[0mvalue\u001b[0m \u001b[0;34m=\u001b[0m \u001b[0m_sanitize_index\u001b[0m\u001b[0;34m(\u001b[0m\u001b[0mvalue\u001b[0m\u001b[0;34m,\u001b[0m \u001b[0mself\u001b[0m\u001b[0;34m.\u001b[0m\u001b[0mindex\u001b[0m\u001b[0;34m,\u001b[0m \u001b[0mcopy\u001b[0m\u001b[0;34m=\u001b[0m\u001b[0;32mFalse\u001b[0m\u001b[0;34m)\u001b[0m\u001b[0;34m\u001b[0m\u001b[0m\n\u001b[0m\u001b[1;32m   2761\u001b[0m             \u001b[0;32mif\u001b[0m \u001b[0;32mnot\u001b[0m \u001b[0misinstance\u001b[0m\u001b[0;34m(\u001b[0m\u001b[0mvalue\u001b[0m\u001b[0;34m,\u001b[0m \u001b[0;34m(\u001b[0m\u001b[0mnp\u001b[0m\u001b[0;34m.\u001b[0m\u001b[0mndarray\u001b[0m\u001b[0;34m,\u001b[0m \u001b[0mIndex\u001b[0m\u001b[0;34m)\u001b[0m\u001b[0;34m)\u001b[0m\u001b[0;34m:\u001b[0m\u001b[0;34m\u001b[0m\u001b[0m\n\u001b[1;32m   2762\u001b[0m                 \u001b[0;32mif\u001b[0m \u001b[0misinstance\u001b[0m\u001b[0;34m(\u001b[0m\u001b[0mvalue\u001b[0m\u001b[0;34m,\u001b[0m \u001b[0mlist\u001b[0m\u001b[0;34m)\u001b[0m \u001b[0;32mand\u001b[0m \u001b[0mlen\u001b[0m\u001b[0;34m(\u001b[0m\u001b[0mvalue\u001b[0m\u001b[0;34m)\u001b[0m \u001b[0;34m>\u001b[0m \u001b[0;36m0\u001b[0m\u001b[0;34m:\u001b[0m\u001b[0;34m\u001b[0m\u001b[0m\n",
            "\u001b[0;32m/opt/conda/lib/python3.6/site-packages/pandas/core/series.py\u001b[0m in \u001b[0;36m_sanitize_index\u001b[0;34m(data, index, copy)\u001b[0m\n\u001b[1;32m   3119\u001b[0m \u001b[0;34m\u001b[0m\u001b[0m\n\u001b[1;32m   3120\u001b[0m     \u001b[0;32mif\u001b[0m \u001b[0mlen\u001b[0m\u001b[0;34m(\u001b[0m\u001b[0mdata\u001b[0m\u001b[0;34m)\u001b[0m \u001b[0;34m!=\u001b[0m \u001b[0mlen\u001b[0m\u001b[0;34m(\u001b[0m\u001b[0mindex\u001b[0m\u001b[0;34m)\u001b[0m\u001b[0;34m:\u001b[0m\u001b[0;34m\u001b[0m\u001b[0m\n\u001b[0;32m-> 3121\u001b[0;31m         \u001b[0;32mraise\u001b[0m \u001b[0mValueError\u001b[0m\u001b[0;34m(\u001b[0m\u001b[0;34m'Length of values does not match length of '\u001b[0m \u001b[0;34m'index'\u001b[0m\u001b[0;34m)\u001b[0m\u001b[0;34m\u001b[0m\u001b[0m\n\u001b[0m\u001b[1;32m   3122\u001b[0m \u001b[0;34m\u001b[0m\u001b[0m\n\u001b[1;32m   3123\u001b[0m     \u001b[0;32mif\u001b[0m \u001b[0misinstance\u001b[0m\u001b[0;34m(\u001b[0m\u001b[0mdata\u001b[0m\u001b[0;34m,\u001b[0m \u001b[0mPeriodIndex\u001b[0m\u001b[0;34m)\u001b[0m\u001b[0;34m:\u001b[0m\u001b[0;34m\u001b[0m\u001b[0m\n",
            "\u001b[0;31mValueError\u001b[0m: Length of values does not match length of index"
          ]
        }
      ]
    },
    {
      "metadata": {
        "_uuid": "9be4e909ab2f92a05c952db79e678245f78368c3",
        "_cell_guid": "74817060-e8bc-493c-99dc-c4f4676a34c1",
        "collapsed": true,
        "trusted": true
      },
      "cell_type": "code",
      "source": "sub.head()",
      "execution_count": null,
      "outputs": []
    },
    {
      "metadata": {
        "_uuid": "9e36c01b6dfb469bd1b8486788a7bd62ffc02c9d",
        "_cell_guid": "7ef59dab-cb1f-4c87-afad-f9237eba93de",
        "collapsed": true,
        "trusted": true
      },
      "cell_type": "code",
      "source": "",
      "execution_count": null,
      "outputs": []
    }
  ],
  "metadata": {
    "language_info": {
      "name": "python",
      "version": "3.6.4",
      "mimetype": "text/x-python",
      "codemirror_mode": {
        "name": "ipython",
        "version": 3
      },
      "pygments_lexer": "ipython3",
      "nbconvert_exporter": "python",
      "file_extension": ".py"
    },
    "kernelspec": {
      "display_name": "Python 3",
      "language": "python",
      "name": "python3"
    }
  },
  "nbformat": 4,
  "nbformat_minor": 1
}